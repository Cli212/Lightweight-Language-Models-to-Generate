{
 "cells": [
  {
   "cell_type": "code",
   "execution_count": 50,
   "metadata": {
    "execution": {
     "iopub.execute_input": "2021-12-01T13:07:35.012209Z",
     "iopub.status.busy": "2021-12-01T13:07:35.011887Z",
     "iopub.status.idle": "2021-12-01T13:07:35.02044Z",
     "shell.execute_reply": "2021-12-01T13:07:35.019614Z",
     "shell.execute_reply.started": "2021-12-01T13:07:35.012175Z"
    }
   },
   "outputs": [],
   "source": [
    "import re\n",
    "import string\n",
    "import numpy as np \n",
    "import pandas as pd\n",
    "import matplotlib.pyplot as plt\n",
    "from torchtext.data.metrics import bleu_score"
   ]
  },
  {
   "cell_type": "code",
   "execution_count": 81,
   "metadata": {},
   "outputs": [
    {
     "name": "stdout",
     "output_type": "stream",
     "text": [
      "Collecting git+https://github.com/Maluuba/nlg-eval.git@master\n",
      "  Cloning https://github.com/Maluuba/nlg-eval.git (to revision master) to /private/var/folders/lw/m0bn1b797ks_9j0997n1dfph0000gn/T/pip-req-build-tmggqpyx\n",
      "  Running command git clone --filter=blob:none -q https://github.com/Maluuba/nlg-eval.git /private/var/folders/lw/m0bn1b797ks_9j0997n1dfph0000gn/T/pip-req-build-tmggqpyx\n",
      "  Resolved https://github.com/Maluuba/nlg-eval.git to commit 7f7993035a2f4729a15d20040fd904933ea58767\n",
      "  Preparing metadata (setup.py) ... \u001b[?25ldone\n",
      "\u001b[?25hRequirement already satisfied: nltk>=3.4.5 in /Users/haoyuhe/envs/py3.6/lib/python3.6/site-packages (from nlg-eval==2.3) (3.6.5)\n",
      "Requirement already satisfied: numpy>=1.11.0 in /Users/haoyuhe/envs/py3.6/lib/python3.6/site-packages (from nlg-eval==2.3) (1.19.5)\n",
      "Requirement already satisfied: psutil>=5.6.2 in /Users/haoyuhe/envs/py3.6/lib/python3.6/site-packages (from nlg-eval==2.3) (5.8.0)\n",
      "Requirement already satisfied: requests>=2.19 in /Users/haoyuhe/envs/py3.6/lib/python3.6/site-packages (from nlg-eval==2.3) (2.26.0)\n",
      "Requirement already satisfied: six>=1.11 in /Users/haoyuhe/envs/py3.6/lib/python3.6/site-packages (from nlg-eval==2.3) (1.16.0)\n",
      "Requirement already satisfied: Cython>=0.28.5 in /Users/haoyuhe/envs/py3.6/lib/python3.6/site-packages (from nlg-eval==2.3) (0.29.24)\n",
      "Requirement already satisfied: scipy>=0.17.0 in /Users/haoyuhe/envs/py3.6/lib/python3.6/site-packages (from nlg-eval==2.3) (1.5.4)\n",
      "Requirement already satisfied: scikit-learn>=0.17 in /Users/haoyuhe/envs/py3.6/lib/python3.6/site-packages (from nlg-eval==2.3) (0.24.2)\n",
      "Requirement already satisfied: gensim~=3.8.3 in /Users/haoyuhe/envs/py3.6/lib/python3.6/site-packages (from nlg-eval==2.3) (3.8.3)\n",
      "Requirement already satisfied: Theano>=0.8.1 in /Users/haoyuhe/envs/py3.6/lib/python3.6/site-packages (from nlg-eval==2.3) (1.0.5)\n",
      "Requirement already satisfied: tqdm>=4.24 in /Users/haoyuhe/envs/py3.6/lib/python3.6/site-packages (from nlg-eval==2.3) (4.62.3)\n",
      "Requirement already satisfied: xdg in /Users/haoyuhe/envs/py3.6/lib/python3.6/site-packages (from nlg-eval==2.3) (5.1.1)\n",
      "Requirement already satisfied: smart-open>=1.8.1 in /Users/haoyuhe/envs/py3.6/lib/python3.6/site-packages (from gensim~=3.8.3->nlg-eval==2.3) (5.2.1)\n",
      "Requirement already satisfied: joblib in /Users/haoyuhe/envs/py3.6/lib/python3.6/site-packages (from nltk>=3.4.5->nlg-eval==2.3) (1.1.0)\n",
      "Requirement already satisfied: click in /Users/haoyuhe/envs/py3.6/lib/python3.6/site-packages (from nltk>=3.4.5->nlg-eval==2.3) (8.0.3)\n",
      "Requirement already satisfied: regex>=2021.8.3 in /Users/haoyuhe/envs/py3.6/lib/python3.6/site-packages (from nltk>=3.4.5->nlg-eval==2.3) (2021.11.10)\n",
      "Requirement already satisfied: urllib3<1.27,>=1.21.1 in /Users/haoyuhe/envs/py3.6/lib/python3.6/site-packages (from requests>=2.19->nlg-eval==2.3) (1.26.7)\n",
      "Requirement already satisfied: certifi>=2017.4.17 in /Users/haoyuhe/envs/py3.6/lib/python3.6/site-packages (from requests>=2.19->nlg-eval==2.3) (2021.10.8)\n",
      "Requirement already satisfied: charset-normalizer~=2.0.0 in /Users/haoyuhe/envs/py3.6/lib/python3.6/site-packages (from requests>=2.19->nlg-eval==2.3) (2.0.8)\n",
      "Requirement already satisfied: idna<4,>=2.5 in /Users/haoyuhe/envs/py3.6/lib/python3.6/site-packages (from requests>=2.19->nlg-eval==2.3) (3.3)\n",
      "Requirement already satisfied: threadpoolctl>=2.0.0 in /Users/haoyuhe/envs/py3.6/lib/python3.6/site-packages (from scikit-learn>=0.17->nlg-eval==2.3) (3.0.0)\n",
      "Requirement already satisfied: importlib-metadata in /Users/haoyuhe/envs/py3.6/lib/python3.6/site-packages (from click->nltk>=3.4.5->nlg-eval==2.3) (4.8.1)\n",
      "Requirement already satisfied: typing-extensions>=3.6.4 in /Users/haoyuhe/envs/py3.6/lib/python3.6/site-packages (from importlib-metadata->click->nltk>=3.4.5->nlg-eval==2.3) (3.10.0.2)\n",
      "Requirement already satisfied: zipp>=0.5 in /Users/haoyuhe/envs/py3.6/lib/python3.6/site-packages (from importlib-metadata->click->nltk>=3.4.5->nlg-eval==2.3) (3.6.0)\n",
      "[nltk_data] Error loading punkt: <urlopen error [SSL:\n",
      "[nltk_data]     CERTIFICATE_VERIFY_FAILED] certificate verify failed\n",
      "[nltk_data]     (_ssl.c:847)>\n",
      "\u001b[31mInstalling to /Users/haoyuhe/.cache/nlgeval\u001b[0m\n",
      "\u001b[31mIn case of incomplete downloads, delete the directory and run `nlg-eval --setup /Users/haoyuhe/.cache/nlgeval' again.\u001b[0m\n",
      "Downloading https://raw.githubusercontent.com/robmsmt/glove-gensim/4c2224bccd61627b76c50a5e1d6afd1c82699d22/glove2word2vec.py to /Users/haoyuhe/envs/py3.6/lib/python3.6/site-packages/nlgeval/word2vec.\n",
      "Downloading http://www.cs.toronto.edu/~rkiros/models/utable.npy to /Users/haoyuhe/.cache/nlgeval.\n",
      "Downloading http://www.cs.toronto.edu/~rkiros/models/dictionary.txt to /Users/haoyuhe/.cache/nlgeval.\n",
      "Downloading http://nlp.stanford.edu/data/glove.6B.zip to /Users/haoyuhe/.cache/nlgeval.\n",
      "glove2word2vec.py: 100%|█████████████████| 1.00/1.00 [00:00<00:00, 263 chunks/s]\n",
      "Downloading http://www.cs.toronto.edu/~rkiros/models/btable.npy to /Users/haoyuhe/.cache/nlgeval.\n",
      "dictionary.txt: 550 chunks [00:02, 260 chunks/s]| 0.00/823 [00:00<?, ? chunks/s]\n",
      "Downloading http://www.cs.toronto.edu/~rkiros/models/uni_skip.npz to /Users/haoyuhe/.cache/nlgeval.\n",
      "uni_skip.npz: 100%|███████████████████████| 634/634 [05:27<00:00, 1.93 chunks/s]\n",
      "Downloading http://www.cs.toronto.edu/~rkiros/models/uni_skip.npz.pkl to /Users/haoyuhe/.cache/nlgeval.\n",
      "uni_skip.npz.pkl: 100%|████████████████| 1.00/1.00 [00:00<00:00, 2.29k chunks/s]\n",
      "Downloading http://www.cs.toronto.edu/~rkiros/models/bi_skip.npz to /Users/haoyuhe/.cache/nlgeval.\n",
      "bi_skip.npz: 100%|████████████████████████| 276/276 [02:07<00:00, 2.16 chunks/s]\n",
      "Downloading http://www.cs.toronto.edu/~rkiros/models/bi_skip.npz.pkl to /Users/haoyuhe/.cache/nlgeval.\n",
      "bi_skip.npz.pkl: 100%|█████████████████| 1.00/1.00 [00:00<00:00, 2.04k chunks/s]\n",
      "Downloading https://raw.githubusercontent.com/moses-smt/mosesdecoder/b199e654df2a26ea58f234cbb642e89d9c1f269d/scripts/generic/multi-bleu.perl to /Users/haoyuhe/envs/py3.6/lib/python3.6/site-packages/nlgeval/multibleu.\n",
      "multi-bleu.perl: 100%|██████████████████| 1.00/1.00 [00:00<00:00, 70.1 chunks/s]\n",
      "glove.6B.zip: 100%|███████████████████████| 823/823 [09:08<00:00, 1.50 chunks/s]\n",
      "btable.npy: 100%|█████████████████████| 2.23k/2.23k [14:08<00:00, 2.63 chunks/s]\n",
      "utable.npy: 100%|█████████████████████| 2.23k/2.23k [14:39<00:00, 2.54 chunks/s]\n",
      "2021-12-04 12:34:19,317 : MainThread : INFO : 400000 lines with 300 dimensions\n",
      "2021-12-04 12:34:20,789 : MainThread : INFO : Model /Users/haoyuhe/.cache/nlgeval/glove.6B.300d.model.txt successfully created !!\n",
      "2021-12-04 12:34:20,789 : MainThread : INFO : loading projection weights from /Users/haoyuhe/.cache/nlgeval/glove.6B.300d.model.txt\n",
      "2021-12-04 12:35:44,508 : MainThread : INFO : loaded (400000, 300) matrix from /Users/haoyuhe/.cache/nlgeval/glove.6B.300d.model.txt\n",
      "2021-12-04 12:35:44,508 : MainThread : INFO : precomputing L2-norms of word weight vectors\n",
      "2021-12-04 12:35:45,661 : MainThread : INFO : Most similar to king are: [('queen', 0.6336469650268555), ('prince', 0.6196624040603638), ('monarch', 0.5899619460105896), ('kingdom', 0.5791265964508057), ('throne', 0.5606487989425659), ('ii', 0.5562329292297363), ('iii', 0.5503199100494385), ('crown', 0.5224862694740295), ('reign', 0.5217353701591492), ('kings', 0.5066400766372681)]\n",
      "2021-12-04 12:35:45,662 : MainThread : INFO : Similarity score between woman and man is 0.6998663 \n",
      "2021-12-04 12:35:45,662 : MainThread : INFO : Finished running --setup\n",
      "2021-12-04 12:35:45,748 : MainThread : INFO : loading projection weights from /Users/haoyuhe/.cache/nlgeval/glove.6B.300d.model.txt\n",
      "2021-12-04 12:37:09,650 : MainThread : INFO : loaded (400000, 300) matrix from /Users/haoyuhe/.cache/nlgeval/glove.6B.300d.model.txt\n",
      "2021-12-04 12:37:09,652 : MainThread : INFO : saving Word2VecKeyedVectors object under /Users/haoyuhe/.cache/nlgeval/glove.6B.300d.model.bin, separately None\n",
      "2021-12-04 12:37:09,652 : MainThread : INFO : storing np array 'vectors' to /Users/haoyuhe/.cache/nlgeval/glove.6B.300d.model.bin.vectors.npy\n",
      "2021-12-04 12:37:10,441 : MainThread : INFO : not storing attribute vectors_norm\n",
      "2021-12-04 12:37:10,994 : MainThread : INFO : saved /Users/haoyuhe/.cache/nlgeval/glove.6B.300d.model.bin\n",
      "2021-12-04 12:37:10,994 : MainThread : INFO : loading Word2VecKeyedVectors object from /Users/haoyuhe/.cache/nlgeval/glove.6B.300d.model.bin\n"
     ]
    },
    {
     "name": "stdout",
     "output_type": "stream",
     "text": [
      "2021-12-04 12:37:11,639 : MainThread : INFO : loading vectors from /Users/haoyuhe/.cache/nlgeval/glove.6B.300d.model.bin.vectors.npy with mmap=r\n",
      "2021-12-04 12:37:11,665 : MainThread : INFO : setting ignored attribute vectors_norm to None\n",
      "2021-12-04 12:37:11,665 : MainThread : INFO : loaded /Users/haoyuhe/.cache/nlgeval/glove.6B.300d.model.bin\n",
      "WARNING: could not read rc.json in /Users/haoyuhe/.config/nlgeval, overwriting\n"
     ]
    }
   ],
   "source": [
    "!pip install git+https://github.com/Maluuba/nlg-eval.git@master\n",
    "# if you are a macOS High Sierra or higher, then run this to allow multithreading:\n",
    "!export OBJC_DISABLE_INITIALIZE_FORK_SAFETY=YES\n",
    "!nlg-eval --setup"
   ]
  },
  {
   "cell_type": "code",
   "execution_count": null,
   "metadata": {},
   "outputs": [
    {
     "name": "stderr",
     "output_type": "stream",
     "text": [
      "WARNING:root:There is less than 2GB of available memory.\n",
      "Will try with limiting Meteor to 1GB of memory but this might cause issues.\n",
      "If you have problems using Meteor, then you can try to lower the `mem` variable in meteor.py\n"
     ]
    }
   ],
   "source": [
    "from nlgeval import NLGEval\n",
    "nlgeval = NLGEval()  # loads the models"
   ]
  },
  {
   "cell_type": "code",
   "execution_count": 51,
   "metadata": {},
   "outputs": [],
   "source": [
    "df = pd.read_csv('saved_models/customQA/lstm/2-2_256/test_results.csv')"
   ]
  },
  {
   "cell_type": "code",
   "execution_count": 80,
   "metadata": {
    "execution": {
     "iopub.execute_input": "2021-12-01T13:07:35.022871Z",
     "iopub.status.busy": "2021-12-01T13:07:35.022411Z",
     "iopub.status.idle": "2021-12-01T13:07:35.042589Z",
     "shell.execute_reply": "2021-12-01T13:07:35.041206Z",
     "shell.execute_reply.started": "2021-12-01T13:07:35.02283Z"
    }
   },
   "outputs": [
    {
     "name": "stdout",
     "output_type": "stream",
     "text": [
      "0.20015612481683004\n"
     ]
    }
   ],
   "source": [
    "def df2metrics(df, maxn=2):\n",
    "    df.dropna(how='any', inplace=True)\n",
    "    reference = df['original_sentence'].apply(lambda x: [re.sub(r'[^\\w\\s]', '', x).split()]).values.tolist()\n",
    "    hypothesis = df['predicted_sentence'].apply(lambda x: re.sub(r'[^\\w\\s]', '', x).split()).values.tolist()\n",
    "    weights = [1. / max_n] * max_n\n",
    "    score_bleu = bleu_score(hypothesis, reference, max_n=max_n, weights=weights)\n",
    "    metrics_dict = nlgeval.compute_metrics(reference, hypothesis)\n",
    "    return metrics_dict, score_bleu"
   ]
  },
  {
   "cell_type": "code",
   "execution_count": 39,
   "metadata": {
    "execution": {
     "iopub.execute_input": "2021-12-01T13:07:35.544423Z",
     "iopub.status.busy": "2021-12-01T13:07:35.54394Z",
     "iopub.status.idle": "2021-12-01T13:07:35.789322Z",
     "shell.execute_reply": "2021-12-01T13:07:35.788711Z",
     "shell.execute_reply.started": "2021-12-01T13:07:35.54438Z"
    }
   },
   "outputs": [
    {
     "data": {
      "image/png": "[encoded data removed]",
      "text/plain": [
       "<Figure size 1440x864 with 1 Axes>"
      ]
     },
     "metadata": {
      "needs_background": "light"
     },
     "output_type": "display_data"
    }
   ],
   "source": [
    "df_results = []\n",
    "models = ['LSTM', \"PRADO\"]\n",
    "for i in range(len(models)):\n",
    "    metrics_dict, bleu_score = df2metrics(pd.read_csv(f'saved_models/customQA/{models[i]}/2-2_256/test_results.csv'))\n",
    "    df_results.append((models[i].lower(), bleu_score, metrics_dict[]))\n",
    "results = pd.DataFrame(df_results, columns=['model', 'bleu', \"perp\"])\n",
    "\n",
    "ax = results[['bleu',\"perp\"]].plot(kind='bar', figsize=(20, 12))\n",
    "ax.set_xticklabels(results[\"model\"].values)\n",
    "ax.set_title('evaluation results of different models')\n",
    "plt.xticks(rotation=0)\n",
    "plt.show();"
   ]
  },
  {
   "cell_type": "code",
   "execution_count": null,
   "metadata": {},
   "outputs": [],
   "source": []
  }
 ],
 "metadata": {
  "kernelspec": {
   "display_name": "Python 3",
   "language": "python",
   "name": "python3"
  },
  "language_info": {
   "codemirror_mode": {
    "name": "ipython",
    "version": 3
   },
   "file_extension": ".py",
   "mimetype": "text/x-python",
   "name": "python",
   "nbconvert_exporter": "python",
   "pygments_lexer": "ipython3",
   "version": "3.6.7"
  }
 },
 "nbformat": 4,
 "nbformat_minor": 4
}
