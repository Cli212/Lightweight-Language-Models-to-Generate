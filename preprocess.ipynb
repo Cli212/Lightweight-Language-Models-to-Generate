{
 "cells": [
  {
   "cell_type": "code",
   "execution_count": 1,
   "id": "fbd636f1",
   "metadata": {
    "execution": {
     "iopub.execute_input": "2021-12-05T05:25:53.848323Z",
     "iopub.status.busy": "2021-12-05T05:25:53.847114Z",
     "iopub.status.idle": "2021-12-05T05:26:07.019803Z",
     "shell.execute_reply": "2021-12-05T05:26:07.020369Z",
     "shell.execute_reply.started": "2021-12-05T05:16:20.558908Z"
    },
    "papermill": {
     "duration": 13.193777,
     "end_time": "2021-12-05T05:26:07.020684",
     "exception": false,
     "start_time": "2021-12-05T05:25:53.826907",
     "status": "completed"
    },
    "tags": []
   },
   "outputs": [
    {
     "name": "stdout",
     "output_type": "stream",
     "text": [
      "Collecting langdetect\r\n",
      "  Downloading langdetect-1.0.9.tar.gz (981 kB)\r\n",
      "\u001b[K     |████████████████████████████████| 981 kB 937 kB/s \r\n",
      "\u001b[?25hRequirement already satisfied: six in /opt/conda/lib/python3.7/site-packages (from langdetect) (1.16.0)\r\n",
      "Building wheels for collected packages: langdetect\r\n",
      "  Building wheel for langdetect (setup.py) ... \u001b[?25l-\b \b\\\b \b|\b \b/\b \bdone\r\n",
      "\u001b[?25h  Created wheel for langdetect: filename=langdetect-1.0.9-py3-none-any.whl size=993242 sha256=34868e31ebcd468649c81cf3498b60374514f271c3f3a2decc72e1733ef5bf67\r\n",
      "  Stored in directory: /root/.cache/pip/wheels/c5/96/8a/f90c59ed25d75e50a8c10a1b1c2d4c402e4dacfa87f3aff36a\r\n",
      "Successfully built langdetect\r\n",
      "Installing collected packages: langdetect\r\n",
      "Successfully installed langdetect-1.0.9\r\n",
      "\u001b[33mWARNING: Running pip as the 'root' user can result in broken permissions and conflicting behaviour with the system package manager. It is recommended to use a virtual environment instead: https://pip.pypa.io/warnings/venv\u001b[0m\r\n",
      "Note: you may need to restart the kernel to use updated packages.\n"
     ]
    }
   ],
   "source": [
    "pip install langdetect"
   ]
  },
  {
   "cell_type": "code",
   "execution_count": 2,
   "id": "04dcd824",
   "metadata": {
    "execution": {
     "iopub.execute_input": "2021-12-05T05:26:07.067781Z",
     "iopub.status.busy": "2021-12-05T05:26:07.063933Z",
     "iopub.status.idle": "2021-12-05T05:26:16.066174Z",
     "shell.execute_reply": "2021-12-05T05:26:16.065470Z",
     "shell.execute_reply.started": "2021-12-05T05:16:29.189581Z"
    },
    "papermill": {
     "duration": 9.026077,
     "end_time": "2021-12-05T05:26:16.066330",
     "exception": false,
     "start_time": "2021-12-05T05:26:07.040253",
     "status": "completed"
    },
    "tags": []
   },
   "outputs": [
    {
     "name": "stdout",
     "output_type": "stream",
     "text": [
      "Collecting bpemb\r\n",
      "  Downloading bpemb-0.3.3-py3-none-any.whl (19 kB)\r\n",
      "Requirement already satisfied: sentencepiece in /opt/conda/lib/python3.7/site-packages (from bpemb) (0.1.96)\r\n",
      "Requirement already satisfied: gensim in /opt/conda/lib/python3.7/site-packages (from bpemb) (4.0.1)\r\n",
      "Requirement already satisfied: requests in /opt/conda/lib/python3.7/site-packages (from bpemb) (2.25.1)\r\n",
      "Requirement already satisfied: numpy in /opt/conda/lib/python3.7/site-packages (from bpemb) (1.19.5)\r\n",
      "Requirement already satisfied: tqdm in /opt/conda/lib/python3.7/site-packages (from bpemb) (4.62.3)\r\n",
      "Requirement already satisfied: smart-open>=1.8.1 in /opt/conda/lib/python3.7/site-packages (from gensim->bpemb) (5.2.1)\r\n",
      "Requirement already satisfied: scipy>=0.18.1 in /opt/conda/lib/python3.7/site-packages (from gensim->bpemb) (1.7.1)\r\n",
      "Requirement already satisfied: chardet<5,>=3.0.2 in /opt/conda/lib/python3.7/site-packages (from requests->bpemb) (4.0.0)\r\n",
      "Requirement already satisfied: idna<3,>=2.5 in /opt/conda/lib/python3.7/site-packages (from requests->bpemb) (2.10)\r\n",
      "Requirement already satisfied: urllib3<1.27,>=1.21.1 in /opt/conda/lib/python3.7/site-packages (from requests->bpemb) (1.26.6)\r\n",
      "Requirement already satisfied: certifi>=2017.4.17 in /opt/conda/lib/python3.7/site-packages (from requests->bpemb) (2021.10.8)\r\n",
      "Installing collected packages: bpemb\r\n",
      "Successfully installed bpemb-0.3.3\r\n",
      "\u001b[33mWARNING: Running pip as the 'root' user can result in broken permissions and conflicting behaviour with the system package manager. It is recommended to use a virtual environment instead: https://pip.pypa.io/warnings/venv\u001b[0m\r\n",
      "Note: you may need to restart the kernel to use updated packages.\n"
     ]
    }
   ],
   "source": [
    "pip install bpemb"
   ]
  },
  {
   "cell_type": "code",
   "execution_count": 3,
   "id": "e6972e1b",
   "metadata": {
    "execution": {
     "iopub.execute_input": "2021-12-05T05:26:16.116461Z",
     "iopub.status.busy": "2021-12-05T05:26:16.115682Z",
     "iopub.status.idle": "2021-12-05T05:26:17.863558Z",
     "shell.execute_reply": "2021-12-05T05:26:17.864104Z",
     "shell.execute_reply.started": "2021-12-05T05:16:37.713438Z"
    },
    "papermill": {
     "duration": 1.776296,
     "end_time": "2021-12-05T05:26:17.864298",
     "exception": false,
     "start_time": "2021-12-05T05:26:16.088002",
     "status": "completed"
    },
    "tags": []
   },
   "outputs": [],
   "source": [
    "import numpy as np\n",
    "from nltk.corpus import stopwords\n",
    "import pandas as pd\n",
    "import re\n",
    "import nltk\n",
    "from tqdm import tqdm\n",
    "import string\n",
    "from collections import Counter\n",
    "from nltk.stem.porter import PorterStemmer\n",
    "from nltk.stem import WordNetLemmatizer\n",
    "from nltk.tokenize import TweetTokenizer\n",
    "from langdetect import detect\n",
    "import emoji\n",
    "from bpemb import BPEmb"
   ]
  },
  {
   "cell_type": "code",
   "execution_count": 4,
   "id": "337bbca0",
   "metadata": {
    "execution": {
     "iopub.execute_input": "2021-12-05T05:26:17.912642Z",
     "iopub.status.busy": "2021-12-05T05:26:17.911963Z",
     "iopub.status.idle": "2021-12-05T05:26:18.011609Z",
     "shell.execute_reply": "2021-12-05T05:26:18.012157Z",
     "shell.execute_reply.started": "2021-12-05T05:16:37.721873Z"
    },
    "papermill": {
     "duration": 0.126798,
     "end_time": "2021-12-05T05:26:18.012342",
     "exception": false,
     "start_time": "2021-12-05T05:26:17.885544",
     "status": "completed"
    },
    "tags": []
   },
   "outputs": [
    {
     "data": {
      "text/html": [
       "<div>\n",
       "<style scoped>\n",
       "    .dataframe tbody tr th:only-of-type {\n",
       "        vertical-align: middle;\n",
       "    }\n",
       "\n",
       "    .dataframe tbody tr th {\n",
       "        vertical-align: top;\n",
       "    }\n",
       "\n",
       "    .dataframe thead th {\n",
       "        text-align: right;\n",
       "    }\n",
       "</style>\n",
       "<table border=\"1\" class=\"dataframe\">\n",
       "  <thead>\n",
       "    <tr style=\"text-align: right;\">\n",
       "      <th></th>\n",
       "      <th>tweet_id</th>\n",
       "      <th>author_id</th>\n",
       "      <th>inbound</th>\n",
       "      <th>created_at</th>\n",
       "      <th>text</th>\n",
       "      <th>response_tweet_id</th>\n",
       "      <th>in_response_to_tweet_id</th>\n",
       "    </tr>\n",
       "  </thead>\n",
       "  <tbody>\n",
       "    <tr>\n",
       "      <th>0</th>\n",
       "      <td>1</td>\n",
       "      <td>sprintcare</td>\n",
       "      <td>False</td>\n",
       "      <td>Tue Oct 31 22:10:47 +0000 2017</td>\n",
       "      <td>@115712 I understand. I would like to assist y...</td>\n",
       "      <td>2</td>\n",
       "      <td>3.0</td>\n",
       "    </tr>\n",
       "    <tr>\n",
       "      <th>1</th>\n",
       "      <td>2</td>\n",
       "      <td>115712</td>\n",
       "      <td>True</td>\n",
       "      <td>Tue Oct 31 22:11:45 +0000 2017</td>\n",
       "      <td>@sprintcare and how do you propose we do that</td>\n",
       "      <td>NaN</td>\n",
       "      <td>1.0</td>\n",
       "    </tr>\n",
       "    <tr>\n",
       "      <th>2</th>\n",
       "      <td>3</td>\n",
       "      <td>115712</td>\n",
       "      <td>True</td>\n",
       "      <td>Tue Oct 31 22:08:27 +0000 2017</td>\n",
       "      <td>@sprintcare I have sent several private messag...</td>\n",
       "      <td>1</td>\n",
       "      <td>4.0</td>\n",
       "    </tr>\n",
       "    <tr>\n",
       "      <th>3</th>\n",
       "      <td>4</td>\n",
       "      <td>sprintcare</td>\n",
       "      <td>False</td>\n",
       "      <td>Tue Oct 31 21:54:49 +0000 2017</td>\n",
       "      <td>@115712 Please send us a Private Message so th...</td>\n",
       "      <td>3</td>\n",
       "      <td>5.0</td>\n",
       "    </tr>\n",
       "    <tr>\n",
       "      <th>4</th>\n",
       "      <td>5</td>\n",
       "      <td>115712</td>\n",
       "      <td>True</td>\n",
       "      <td>Tue Oct 31 21:49:35 +0000 2017</td>\n",
       "      <td>@sprintcare I did.</td>\n",
       "      <td>4</td>\n",
       "      <td>6.0</td>\n",
       "    </tr>\n",
       "    <tr>\n",
       "      <th>...</th>\n",
       "      <td>...</td>\n",
       "      <td>...</td>\n",
       "      <td>...</td>\n",
       "      <td>...</td>\n",
       "      <td>...</td>\n",
       "      <td>...</td>\n",
       "      <td>...</td>\n",
       "    </tr>\n",
       "    <tr>\n",
       "      <th>6995</th>\n",
       "      <td>10465</td>\n",
       "      <td>VerizonSupport</td>\n",
       "      <td>False</td>\n",
       "      <td>Wed Nov 01 00:38:00 +0000 2017</td>\n",
       "      <td>@117904 Please check the connection on your sp...</td>\n",
       "      <td>10466</td>\n",
       "      <td>10464.0</td>\n",
       "    </tr>\n",
       "    <tr>\n",
       "      <th>6996</th>\n",
       "      <td>10466</td>\n",
       "      <td>117904</td>\n",
       "      <td>True</td>\n",
       "      <td>Wed Nov 01 00:39:19 +0000 2017</td>\n",
       "      <td>@VerizonSupport It’s secured. What’s next?</td>\n",
       "      <td>10467</td>\n",
       "      <td>10465.0</td>\n",
       "    </tr>\n",
       "    <tr>\n",
       "      <th>6997</th>\n",
       "      <td>10467</td>\n",
       "      <td>VerizonSupport</td>\n",
       "      <td>False</td>\n",
       "      <td>Wed Nov 01 00:41:33 +0000 2017</td>\n",
       "      <td>@117904 We want to try a reset to your home ne...</td>\n",
       "      <td>10468</td>\n",
       "      <td>10466.0</td>\n",
       "    </tr>\n",
       "    <tr>\n",
       "      <th>6998</th>\n",
       "      <td>10468</td>\n",
       "      <td>117904</td>\n",
       "      <td>True</td>\n",
       "      <td>Wed Nov 01 00:42:23 +0000 2017</td>\n",
       "      <td>@VerizonSupport Yes</td>\n",
       "      <td>10469</td>\n",
       "      <td>10467.0</td>\n",
       "    </tr>\n",
       "    <tr>\n",
       "      <th>6999</th>\n",
       "      <td>10469</td>\n",
       "      <td>VerizonSupport</td>\n",
       "      <td>False</td>\n",
       "      <td>Wed Nov 01 00:45:00 +0000 2017</td>\n",
       "      <td>@117904 Please press and hold down the \"Alarm ...</td>\n",
       "      <td>10470</td>\n",
       "      <td>10468.0</td>\n",
       "    </tr>\n",
       "  </tbody>\n",
       "</table>\n",
       "<p>7000 rows × 7 columns</p>\n",
       "</div>"
      ],
      "text/plain": [
       "      tweet_id       author_id  inbound                      created_at  \\\n",
       "0            1      sprintcare    False  Tue Oct 31 22:10:47 +0000 2017   \n",
       "1            2          115712     True  Tue Oct 31 22:11:45 +0000 2017   \n",
       "2            3          115712     True  Tue Oct 31 22:08:27 +0000 2017   \n",
       "3            4      sprintcare    False  Tue Oct 31 21:54:49 +0000 2017   \n",
       "4            5          115712     True  Tue Oct 31 21:49:35 +0000 2017   \n",
       "...        ...             ...      ...                             ...   \n",
       "6995     10465  VerizonSupport    False  Wed Nov 01 00:38:00 +0000 2017   \n",
       "6996     10466          117904     True  Wed Nov 01 00:39:19 +0000 2017   \n",
       "6997     10467  VerizonSupport    False  Wed Nov 01 00:41:33 +0000 2017   \n",
       "6998     10468          117904     True  Wed Nov 01 00:42:23 +0000 2017   \n",
       "6999     10469  VerizonSupport    False  Wed Nov 01 00:45:00 +0000 2017   \n",
       "\n",
       "                                                   text response_tweet_id  \\\n",
       "0     @115712 I understand. I would like to assist y...                 2   \n",
       "1         @sprintcare and how do you propose we do that               NaN   \n",
       "2     @sprintcare I have sent several private messag...                 1   \n",
       "3     @115712 Please send us a Private Message so th...                 3   \n",
       "4                                    @sprintcare I did.                 4   \n",
       "...                                                 ...               ...   \n",
       "6995  @117904 Please check the connection on your sp...             10466   \n",
       "6996         @VerizonSupport It’s secured. What’s next?             10467   \n",
       "6997  @117904 We want to try a reset to your home ne...             10468   \n",
       "6998                                @VerizonSupport Yes             10469   \n",
       "6999  @117904 Please press and hold down the \"Alarm ...             10470   \n",
       "\n",
       "      in_response_to_tweet_id  \n",
       "0                         3.0  \n",
       "1                         1.0  \n",
       "2                         4.0  \n",
       "3                         5.0  \n",
       "4                         6.0  \n",
       "...                       ...  \n",
       "6995                  10464.0  \n",
       "6996                  10465.0  \n",
       "6997                  10466.0  \n",
       "6998                  10467.0  \n",
       "6999                  10468.0  \n",
       "\n",
       "[7000 rows x 7 columns]"
      ]
     },
     "execution_count": 4,
     "metadata": {},
     "output_type": "execute_result"
    }
   ],
   "source": [
    "# Read DataFrame From Local Path\n",
    "# Change the path to local path where you store kaggle dataset twcs.csv\n",
    "df = pd.read_csv(\"../input/customer-support-on-twitter/twcs/twcs.csv\")\n",
    "df"
   ]
  },
  {
   "cell_type": "code",
   "execution_count": 5,
   "id": "ba51d35e",
   "metadata": {
    "execution": {
     "iopub.execute_input": "2021-12-05T05:26:18.059026Z",
     "iopub.status.busy": "2021-12-05T05:26:18.058392Z",
     "iopub.status.idle": "2021-12-05T05:26:18.063901Z",
     "shell.execute_reply": "2021-12-05T05:26:18.064537Z",
     "shell.execute_reply.started": "2021-12-05T05:16:37.791713Z"
    },
    "papermill": {
     "duration": 0.03048,
     "end_time": "2021-12-05T05:26:18.064710",
     "exception": false,
     "start_time": "2021-12-05T05:26:18.034230",
     "status": "completed"
    },
    "tags": []
   },
   "outputs": [],
   "source": [
    "# Create function to filter out text that are not written in English\n",
    "def keepEnglish(d):\n",
    "    mask = []\n",
    "    \n",
    "    for i,doc in enumerate(d[\"text\"]) :\n",
    "        try:\n",
    "            if doc and  doc and 'en' == detect(doc) :\n",
    "                mask.append(True)\n",
    "            else:\n",
    "                mask.append(False)\n",
    "        except Exception:\n",
    "            mask.append(False)\n",
    "\n",
    "    return mask"
   ]
  },
  {
   "cell_type": "code",
   "execution_count": 6,
   "id": "58f413e4",
   "metadata": {
    "execution": {
     "iopub.execute_input": "2021-12-05T05:26:18.118126Z",
     "iopub.status.busy": "2021-12-05T05:26:18.117351Z",
     "iopub.status.idle": "2021-12-05T05:27:16.270340Z",
     "shell.execute_reply": "2021-12-05T05:27:16.269778Z",
     "shell.execute_reply.started": "2021-12-05T05:16:37.798945Z"
    },
    "papermill": {
     "duration": 58.183228,
     "end_time": "2021-12-05T05:27:16.270476",
     "exception": false,
     "start_time": "2021-12-05T05:26:18.087248",
     "status": "completed"
    },
    "tags": []
   },
   "outputs": [
    {
     "name": "stderr",
     "output_type": "stream",
     "text": [
      "/opt/conda/lib/python3.7/site-packages/ipykernel_launcher.py:4: SettingWithCopyWarning: \n",
      "A value is trying to be set on a copy of a slice from a DataFrame.\n",
      "Try using .loc[row_indexer,col_indexer] = value instead\n",
      "\n",
      "See the caveats in the documentation: https://pandas.pydata.org/pandas-docs/stable/user_guide/indexing.html#returning-a-view-versus-a-copy\n",
      "  after removing the cwd from sys.path.\n"
     ]
    },
    {
     "data": {
      "text/plain": [
       "0       @115712 i understand. i would like to assist y...\n",
       "1           @sprintcare and how do you propose we do that\n",
       "2       @sprintcare i have sent several private messag...\n",
       "3       @115712 please send us a private message so th...\n",
       "5       @115712 can you please send us a private messa...\n",
       "                              ...                        \n",
       "6993    @117904 do you happen to know where your main ...\n",
       "6995    @117904 please check the connection on your sp...\n",
       "6996           @verizonsupport it’s secured. what’s next?\n",
       "6997    @117904 we want to try a reset to your home ne...\n",
       "6999    @117904 please press and hold down the \"alarm ...\n",
       "Name: text, Length: 6618, dtype: object"
      ]
     },
     "execution_count": 6,
     "metadata": {},
     "output_type": "execute_result"
    }
   ],
   "source": [
    "# Convert to lower case and only keep English words\n",
    "mask = keepEnglish(df)\n",
    "df = df[mask]\n",
    "df['text'] = df[\"text\"].str.lower()\n",
    "df[\"text\"]"
   ]
  },
  {
   "cell_type": "code",
   "execution_count": 7,
   "id": "932e97eb",
   "metadata": {
    "execution": {
     "iopub.execute_input": "2021-12-05T05:27:16.322895Z",
     "iopub.status.busy": "2021-12-05T05:27:16.321834Z",
     "iopub.status.idle": "2021-12-05T05:27:16.350517Z",
     "shell.execute_reply": "2021-12-05T05:27:16.349787Z",
     "shell.execute_reply.started": "2021-12-05T05:17:35.822146Z"
    },
    "papermill": {
     "duration": 0.057484,
     "end_time": "2021-12-05T05:27:16.350660",
     "exception": false,
     "start_time": "2021-12-05T05:27:16.293176",
     "status": "completed"
    },
    "tags": []
   },
   "outputs": [
    {
     "data": {
      "text/html": [
       "<div>\n",
       "<style scoped>\n",
       "    .dataframe tbody tr th:only-of-type {\n",
       "        vertical-align: middle;\n",
       "    }\n",
       "\n",
       "    .dataframe tbody tr th {\n",
       "        vertical-align: top;\n",
       "    }\n",
       "\n",
       "    .dataframe thead th {\n",
       "        text-align: right;\n",
       "    }\n",
       "</style>\n",
       "<table border=\"1\" class=\"dataframe\">\n",
       "  <thead>\n",
       "    <tr style=\"text-align: right;\">\n",
       "      <th></th>\n",
       "      <th>questions</th>\n",
       "      <th>answers</th>\n",
       "    </tr>\n",
       "  </thead>\n",
       "  <tbody>\n",
       "    <tr>\n",
       "      <th>0</th>\n",
       "      <td>@sprintcare is the worst customer service</td>\n",
       "      <td>@115712 can you please send us a private messa...</td>\n",
       "    </tr>\n",
       "    <tr>\n",
       "      <th>1</th>\n",
       "      <td>@115714 y’all lie about your “great” connectio...</td>\n",
       "      <td>@115713 h there! we'd definitely like to work ...</td>\n",
       "    </tr>\n",
       "    <tr>\n",
       "      <th>2</th>\n",
       "      <td>@115714 whenever i contact customer support, t...</td>\n",
       "      <td>@115715 please send me a private message so th...</td>\n",
       "    </tr>\n",
       "    <tr>\n",
       "      <th>3</th>\n",
       "      <td>actually that's a broken link you sent me and ...</td>\n",
       "      <td>@115716 the information pertaining to the acco...</td>\n",
       "    </tr>\n",
       "    <tr>\n",
       "      <th>4</th>\n",
       "      <td>yo @ask_spectrum, your customer service reps a...</td>\n",
       "      <td>@115717 hello, my apologies for any frustratio...</td>\n",
       "    </tr>\n",
       "    <tr>\n",
       "      <th>...</th>\n",
       "      <td>...</td>\n",
       "      <td>...</td>\n",
       "    </tr>\n",
       "    <tr>\n",
       "      <th>1767</th>\n",
       "      <td>@115993 i am encountering problems when withdr...</td>\n",
       "      <td>@117899 i am sorry to hear about this trouble ...</td>\n",
       "    </tr>\n",
       "    <tr>\n",
       "      <th>1768</th>\n",
       "      <td>@askpaypal sent you guys a dm never got a reply..</td>\n",
       "      <td>@117900 hey! sorry about the wait, the queue's...</td>\n",
       "    </tr>\n",
       "    <tr>\n",
       "      <th>1769</th>\n",
       "      <td>@askpaypal please see dm</td>\n",
       "      <td>@117901 hi! i've replied to your dm! :) ^jmr</td>\n",
       "    </tr>\n",
       "    <tr>\n",
       "      <th>1770</th>\n",
       "      <td>i'm about to close my @115993 account. my debi...</td>\n",
       "      <td>@115993 never offer any solution and thus has ...</td>\n",
       "    </tr>\n",
       "    <tr>\n",
       "      <th>1771</th>\n",
       "      <td>@askpaypal i have asked for bank account #2 to...</td>\n",
       "      <td>@117903 sorry to hear about this. please send ...</td>\n",
       "    </tr>\n",
       "  </tbody>\n",
       "</table>\n",
       "<p>1772 rows × 2 columns</p>\n",
       "</div>"
      ],
      "text/plain": [
       "                                              questions  \\\n",
       "0             @sprintcare is the worst customer service   \n",
       "1     @115714 y’all lie about your “great” connectio...   \n",
       "2     @115714 whenever i contact customer support, t...   \n",
       "3     actually that's a broken link you sent me and ...   \n",
       "4     yo @ask_spectrum, your customer service reps a...   \n",
       "...                                                 ...   \n",
       "1767  @115993 i am encountering problems when withdr...   \n",
       "1768  @askpaypal sent you guys a dm never got a reply..   \n",
       "1769                           @askpaypal please see dm   \n",
       "1770  i'm about to close my @115993 account. my debi...   \n",
       "1771  @askpaypal i have asked for bank account #2 to...   \n",
       "\n",
       "                                                answers  \n",
       "0     @115712 can you please send us a private messa...  \n",
       "1     @115713 h there! we'd definitely like to work ...  \n",
       "2     @115715 please send me a private message so th...  \n",
       "3     @115716 the information pertaining to the acco...  \n",
       "4     @115717 hello, my apologies for any frustratio...  \n",
       "...                                                 ...  \n",
       "1767  @117899 i am sorry to hear about this trouble ...  \n",
       "1768  @117900 hey! sorry about the wait, the queue's...  \n",
       "1769       @117901 hi! i've replied to your dm! :) ^jmr  \n",
       "1770  @115993 never offer any solution and thus has ...  \n",
       "1771  @117903 sorry to hear about this. please send ...  \n",
       "\n",
       "[1772 rows x 2 columns]"
      ]
     },
     "execution_count": 7,
     "metadata": {},
     "output_type": "execute_result"
    }
   ],
   "source": [
    "# Only Keep First asked questions and their reponses\n",
    "df_q= df[pd.isnull(df.in_response_to_tweet_id) & df.inbound]\n",
    "df_qa = pd.merge(df_q, df, left_on='tweet_id', right_on='in_response_to_tweet_id')\n",
    "qa_tweets = df_qa[[\"text_x\",\"text_y\"]]\n",
    "qa_tweets.columns = [\"questions\",\"answers\"]\n",
    "qa_tweets"
   ]
  },
  {
   "cell_type": "code",
   "execution_count": 8,
   "id": "9ace2c54",
   "metadata": {
    "execution": {
     "iopub.execute_input": "2021-12-05T05:27:16.406191Z",
     "iopub.status.busy": "2021-12-05T05:27:16.405138Z",
     "iopub.status.idle": "2021-12-05T05:27:21.360772Z",
     "shell.execute_reply": "2021-12-05T05:27:21.360157Z",
     "shell.execute_reply.started": "2021-12-05T05:17:35.849654Z"
    },
    "papermill": {
     "duration": 4.987127,
     "end_time": "2021-12-05T05:27:21.360945",
     "exception": false,
     "start_time": "2021-12-05T05:27:16.373818",
     "status": "completed"
    },
    "tags": []
   },
   "outputs": [
    {
     "name": "stdout",
     "output_type": "stream",
     "text": [
      "downloading https://nlp.h-its.org/bpemb/en/en.wiki.bpe.vs10000.model\n"
     ]
    },
    {
     "name": "stderr",
     "output_type": "stream",
     "text": [
      "100%|██████████| 400869/400869 [00:00<00:00, 722116.72B/s]\n"
     ]
    },
    {
     "name": "stdout",
     "output_type": "stream",
     "text": [
      "downloading https://nlp.h-its.org/bpemb/en/en.wiki.bpe.vs10000.d100.w2v.bin.tar.gz\n"
     ]
    },
    {
     "name": "stderr",
     "output_type": "stream",
     "text": [
      "100%|██████████| 3784656/3784656 [00:01<00:00, 3381780.06B/s]\n"
     ]
    }
   ],
   "source": [
    "bpemb_en = BPEmb(lang=\"en\", dim=100)\n",
    "\n",
    "def clean_tweet(tweet):\n",
    "    # Clean Tweet, remove emoji, symbols and tokenize \n",
    "    lemmatizer = WordNetLemmatizer()\n",
    "    english_stopwords = set(stopwords.words(\"english\"))\n",
    "    digit_chr = re.compile(\"^[a-zA-Z0-9@_!#$%^&*()<>?/\\|}{~:,.]*$\")\n",
    "    tweet = re.sub(r'https?:\\/\\/.*[\\r\\n]*', '', tweet)\n",
    "    tweet = re.sub(r'#', '', tweet)\n",
    "    tweet = re.sub(r'\\$\\w*', '', tweet)\n",
    "    tweet = re.sub(r'^RT[\\s]+', '', tweet)\n",
    "    tokenizer = TweetTokenizer(preserve_case=False, strip_handles=True, reduce_len=True)\n",
    "    tweet_tokens = tokenizer.tokenize(tweet)\n",
    "\n",
    "    tweets_cleaned = []\n",
    "    for word in tweet_tokens:\n",
    "        # lemmatize each word and then check pattern before making new sentence\n",
    "        lemma_word = lemmatizer.lemmatize(word)\n",
    "        check = digit_chr.match(word)\n",
    "        if word not in  emoji.UNICODE_EMOJI['en'] and check:\n",
    "            tweets_cleaned.append(lemma_word)\n",
    "    #Create new sentence based on old sentence, apply bpe for new sentence\n",
    "    tweet_clean = \" \".join(tweets_cleaned)\n",
    "    tweet_bpe = bpemb_en.encode(tweet_clean)\n",
    "    return tweet_bpe\n",
    "\n",
    "# User counter to create vocab and calculate frequency\n",
    "def tweet_counter(df):\n",
    "    count = Counter()\n",
    "    for tweet in df.values:\n",
    "        for word in tweet:\n",
    "            count[word] += 1\n",
    "        \n",
    "    return count\n",
    "\n",
    "# create a index list given a sentence and vocab\n",
    "def index_tweet(vocab,tweet_list):\n",
    "    indice = [vocab[x] for x in tweet_list]\n",
    "    return indice"
   ]
  },
  {
   "cell_type": "code",
   "execution_count": 9,
   "id": "4627c2fa",
   "metadata": {
    "execution": {
     "iopub.execute_input": "2021-12-05T05:27:21.427469Z",
     "iopub.status.busy": "2021-12-05T05:27:21.426773Z",
     "iopub.status.idle": "2021-12-05T05:27:21.442438Z",
     "shell.execute_reply": "2021-12-05T05:27:21.441817Z",
     "shell.execute_reply.started": "2021-12-05T05:17:36.012106Z"
    },
    "papermill": {
     "duration": 0.051821,
     "end_time": "2021-12-05T05:27:21.442580",
     "exception": false,
     "start_time": "2021-12-05T05:27:21.390759",
     "status": "completed"
    },
    "tags": []
   },
   "outputs": [
    {
     "name": "stderr",
     "output_type": "stream",
     "text": [
      "/opt/conda/lib/python3.7/site-packages/pandas/util/_decorators.py:311: SettingWithCopyWarning: \n",
      "A value is trying to be set on a copy of a slice from a DataFrame\n",
      "\n",
      "See the caveats in the documentation: https://pandas.pydata.org/pandas-docs/stable/user_guide/indexing.html#returning-a-view-versus-a-copy\n",
      "  return func(*args, **kwargs)\n"
     ]
    },
    {
     "data": {
      "text/html": [
       "<div>\n",
       "<style scoped>\n",
       "    .dataframe tbody tr th:only-of-type {\n",
       "        vertical-align: middle;\n",
       "    }\n",
       "\n",
       "    .dataframe tbody tr th {\n",
       "        vertical-align: top;\n",
       "    }\n",
       "\n",
       "    .dataframe thead th {\n",
       "        text-align: right;\n",
       "    }\n",
       "</style>\n",
       "<table border=\"1\" class=\"dataframe\">\n",
       "  <thead>\n",
       "    <tr style=\"text-align: right;\">\n",
       "      <th></th>\n",
       "      <th>questions</th>\n",
       "      <th>answers</th>\n",
       "    </tr>\n",
       "  </thead>\n",
       "  <tbody>\n",
       "    <tr>\n",
       "      <th>0</th>\n",
       "      <td>@sprintcare is the worst customer service</td>\n",
       "      <td>@115712 can you please send us a private messa...</td>\n",
       "    </tr>\n",
       "    <tr>\n",
       "      <th>1</th>\n",
       "      <td>@115714 y’all lie about your “great” connectio...</td>\n",
       "      <td>@115713 h there! we'd definitely like to work ...</td>\n",
       "    </tr>\n",
       "    <tr>\n",
       "      <th>2</th>\n",
       "      <td>@115714 whenever i contact customer support, t...</td>\n",
       "      <td>@115715 please send me a private message so th...</td>\n",
       "    </tr>\n",
       "    <tr>\n",
       "      <th>3</th>\n",
       "      <td>actually that's a broken link you sent me and ...</td>\n",
       "      <td>@115716 the information pertaining to the acco...</td>\n",
       "    </tr>\n",
       "    <tr>\n",
       "      <th>4</th>\n",
       "      <td>yo @ask_spectrum, your customer service reps a...</td>\n",
       "      <td>@115717 hello, my apologies for any frustratio...</td>\n",
       "    </tr>\n",
       "    <tr>\n",
       "      <th>...</th>\n",
       "      <td>...</td>\n",
       "      <td>...</td>\n",
       "    </tr>\n",
       "    <tr>\n",
       "      <th>1767</th>\n",
       "      <td>@115993 i am encountering problems when withdr...</td>\n",
       "      <td>@117899 i am sorry to hear about this trouble ...</td>\n",
       "    </tr>\n",
       "    <tr>\n",
       "      <th>1768</th>\n",
       "      <td>@askpaypal sent you guys a dm never got a reply..</td>\n",
       "      <td>@117900 hey! sorry about the wait, the queue's...</td>\n",
       "    </tr>\n",
       "    <tr>\n",
       "      <th>1769</th>\n",
       "      <td>@askpaypal please see dm</td>\n",
       "      <td>@117901 hi! i've replied to your dm! :) ^jmr</td>\n",
       "    </tr>\n",
       "    <tr>\n",
       "      <th>1770</th>\n",
       "      <td>i'm about to close my @115993 account. my debi...</td>\n",
       "      <td>@115993 never offer any solution and thus has ...</td>\n",
       "    </tr>\n",
       "    <tr>\n",
       "      <th>1771</th>\n",
       "      <td>@askpaypal i have asked for bank account #2 to...</td>\n",
       "      <td>@117903 sorry to hear about this. please send ...</td>\n",
       "    </tr>\n",
       "  </tbody>\n",
       "</table>\n",
       "<p>1706 rows × 2 columns</p>\n",
       "</div>"
      ],
      "text/plain": [
       "                                              questions  \\\n",
       "0             @sprintcare is the worst customer service   \n",
       "1     @115714 y’all lie about your “great” connectio...   \n",
       "2     @115714 whenever i contact customer support, t...   \n",
       "3     actually that's a broken link you sent me and ...   \n",
       "4     yo @ask_spectrum, your customer service reps a...   \n",
       "...                                                 ...   \n",
       "1767  @115993 i am encountering problems when withdr...   \n",
       "1768  @askpaypal sent you guys a dm never got a reply..   \n",
       "1769                           @askpaypal please see dm   \n",
       "1770  i'm about to close my @115993 account. my debi...   \n",
       "1771  @askpaypal i have asked for bank account #2 to...   \n",
       "\n",
       "                                                answers  \n",
       "0     @115712 can you please send us a private messa...  \n",
       "1     @115713 h there! we'd definitely like to work ...  \n",
       "2     @115715 please send me a private message so th...  \n",
       "3     @115716 the information pertaining to the acco...  \n",
       "4     @115717 hello, my apologies for any frustratio...  \n",
       "...                                                 ...  \n",
       "1767  @117899 i am sorry to hear about this trouble ...  \n",
       "1768  @117900 hey! sorry about the wait, the queue's...  \n",
       "1769       @117901 hi! i've replied to your dm! :) ^jmr  \n",
       "1770  @115993 never offer any solution and thus has ...  \n",
       "1771  @117903 sorry to hear about this. please send ...  \n",
       "\n",
       "[1706 rows x 2 columns]"
      ]
     },
     "execution_count": 9,
     "metadata": {},
     "output_type": "execute_result"
    }
   ],
   "source": [
    "# Drop duplicated questions \n",
    "qa_tweets.drop_duplicates('questions', inplace=True)\n",
    "qa_tweets"
   ]
  },
  {
   "cell_type": "code",
   "execution_count": 10,
   "id": "c78bd268",
   "metadata": {
    "execution": {
     "iopub.execute_input": "2021-12-05T05:27:21.512220Z",
     "iopub.status.busy": "2021-12-05T05:27:21.511428Z",
     "iopub.status.idle": "2021-12-05T05:27:26.059682Z",
     "shell.execute_reply": "2021-12-05T05:27:26.059076Z",
     "shell.execute_reply.started": "2021-12-05T05:17:36.032228Z"
    },
    "papermill": {
     "duration": 4.58733,
     "end_time": "2021-12-05T05:27:26.059843",
     "exception": false,
     "start_time": "2021-12-05T05:27:21.472513",
     "status": "completed"
    },
    "tags": []
   },
   "outputs": [
    {
     "data": {
      "text/html": [
       "<div>\n",
       "<style scoped>\n",
       "    .dataframe tbody tr th:only-of-type {\n",
       "        vertical-align: middle;\n",
       "    }\n",
       "\n",
       "    .dataframe tbody tr th {\n",
       "        vertical-align: top;\n",
       "    }\n",
       "\n",
       "    .dataframe thead th {\n",
       "        text-align: right;\n",
       "    }\n",
       "</style>\n",
       "<table border=\"1\" class=\"dataframe\">\n",
       "  <thead>\n",
       "    <tr style=\"text-align: right;\">\n",
       "      <th></th>\n",
       "      <th>question_token</th>\n",
       "      <th>answer_token</th>\n",
       "    </tr>\n",
       "  </thead>\n",
       "  <tbody>\n",
       "    <tr>\n",
       "      <th>0</th>\n",
       "      <td>[▁is, ▁the, ▁worst, ▁custom, er, ▁service]</td>\n",
       "      <td>[▁can, ▁you, ▁ple, ase, ▁send, ▁u, ▁a, ▁privat...</td>\n",
       "    </tr>\n",
       "    <tr>\n",
       "      <th>1</th>\n",
       "      <td>[▁y, ▁all, ▁lie, ▁about, ▁your, ▁great, ▁conne...</td>\n",
       "      <td>[▁h, ▁there, ▁, !, ▁defin, it, ely, ▁like, ▁to...</td>\n",
       "    </tr>\n",
       "    <tr>\n",
       "      <th>2</th>\n",
       "      <td>[▁whe, never, ▁i, ▁contact, ▁custom, er, ▁supp...</td>\n",
       "      <td>[▁ple, ase, ▁send, ▁me, ▁a, ▁private, ▁message...</td>\n",
       "    </tr>\n",
       "    <tr>\n",
       "      <th>3</th>\n",
       "      <td>[▁actually, ▁a, ▁broken, ▁link, ▁you, ▁sent, ▁...</td>\n",
       "      <td>[▁the, ▁information, ▁per, t, aining, ▁to, ▁th...</td>\n",
       "    </tr>\n",
       "    <tr>\n",
       "      <th>4</th>\n",
       "      <td>[▁y, o, ▁,, ▁your, ▁custom, er, ▁service, ▁rep...</td>\n",
       "      <td>[▁hel, lo, ▁,, ▁my, ▁ap, ology, ▁for, ▁any, ▁f...</td>\n",
       "    </tr>\n",
       "    <tr>\n",
       "      <th>...</th>\n",
       "      <td>...</td>\n",
       "      <td>...</td>\n",
       "    </tr>\n",
       "    <tr>\n",
       "      <th>1767</th>\n",
       "      <td>[▁i, ▁am, ▁encoun, tering, ▁problem, ▁when, ▁w...</td>\n",
       "      <td>[▁i, ▁am, ▁sor, ry, ▁to, ▁hear, ▁about, ▁this,...</td>\n",
       "    </tr>\n",
       "    <tr>\n",
       "      <th>1768</th>\n",
       "      <td>[▁sent, ▁you, ▁guy, ▁a, ▁d, m, ▁never, ▁got, ▁...</td>\n",
       "      <td>[▁he, y, ▁, !, ▁sor, ry, ▁about, ▁the, ▁wait, ...</td>\n",
       "    </tr>\n",
       "    <tr>\n",
       "      <th>1769</th>\n",
       "      <td>[▁ple, ase, ▁see, ▁d, m]</td>\n",
       "      <td>[▁h, i, ▁, !, ▁repl, ied, ▁to, ▁your, ▁d, m, ▁...</td>\n",
       "    </tr>\n",
       "    <tr>\n",
       "      <th>1770</th>\n",
       "      <td>[▁about, ▁to, ▁close, ▁my, ▁account, ▁., ▁my, ...</td>\n",
       "      <td>[▁never, ▁offer, ▁any, ▁solution, ▁and, ▁thus,...</td>\n",
       "    </tr>\n",
       "    <tr>\n",
       "      <th>1771</th>\n",
       "      <td>[▁i, ▁have, ▁asked, ▁for, ▁bank, ▁account, ▁0,...</td>\n",
       "      <td>[▁sor, ry, ▁to, ▁hear, ▁about, ▁this, ▁., ▁ple...</td>\n",
       "    </tr>\n",
       "  </tbody>\n",
       "</table>\n",
       "<p>1706 rows × 2 columns</p>\n",
       "</div>"
      ],
      "text/plain": [
       "                                         question_token  \\\n",
       "0            [▁is, ▁the, ▁worst, ▁custom, er, ▁service]   \n",
       "1     [▁y, ▁all, ▁lie, ▁about, ▁your, ▁great, ▁conne...   \n",
       "2     [▁whe, never, ▁i, ▁contact, ▁custom, er, ▁supp...   \n",
       "3     [▁actually, ▁a, ▁broken, ▁link, ▁you, ▁sent, ▁...   \n",
       "4     [▁y, o, ▁,, ▁your, ▁custom, er, ▁service, ▁rep...   \n",
       "...                                                 ...   \n",
       "1767  [▁i, ▁am, ▁encoun, tering, ▁problem, ▁when, ▁w...   \n",
       "1768  [▁sent, ▁you, ▁guy, ▁a, ▁d, m, ▁never, ▁got, ▁...   \n",
       "1769                           [▁ple, ase, ▁see, ▁d, m]   \n",
       "1770  [▁about, ▁to, ▁close, ▁my, ▁account, ▁., ▁my, ...   \n",
       "1771  [▁i, ▁have, ▁asked, ▁for, ▁bank, ▁account, ▁0,...   \n",
       "\n",
       "                                           answer_token  \n",
       "0     [▁can, ▁you, ▁ple, ase, ▁send, ▁u, ▁a, ▁privat...  \n",
       "1     [▁h, ▁there, ▁, !, ▁defin, it, ely, ▁like, ▁to...  \n",
       "2     [▁ple, ase, ▁send, ▁me, ▁a, ▁private, ▁message...  \n",
       "3     [▁the, ▁information, ▁per, t, aining, ▁to, ▁th...  \n",
       "4     [▁hel, lo, ▁,, ▁my, ▁ap, ology, ▁for, ▁any, ▁f...  \n",
       "...                                                 ...  \n",
       "1767  [▁i, ▁am, ▁sor, ry, ▁to, ▁hear, ▁about, ▁this,...  \n",
       "1768  [▁he, y, ▁, !, ▁sor, ry, ▁about, ▁the, ▁wait, ...  \n",
       "1769  [▁h, i, ▁, !, ▁repl, ied, ▁to, ▁your, ▁d, m, ▁...  \n",
       "1770  [▁never, ▁offer, ▁any, ▁solution, ▁and, ▁thus,...  \n",
       "1771  [▁sor, ry, ▁to, ▁hear, ▁about, ▁this, ▁., ▁ple...  \n",
       "\n",
       "[1706 rows x 2 columns]"
      ]
     },
     "execution_count": 10,
     "metadata": {},
     "output_type": "execute_result"
    }
   ],
   "source": [
    "# Create token df after clean tweet \n",
    "qa_token = pd.DataFrame(columns = [\"question_token\", \"answer_token\"])\n",
    "qa_token[\"question_token\"] = qa_tweets[\"questions\"].apply(lambda x: clean_tweet(x))\n",
    "qa_token[\"answer_token\"] = qa_tweets[\"answers\"].apply(lambda x: clean_tweet(x))\n",
    "qa_token"
   ]
  },
  {
   "cell_type": "code",
   "execution_count": 11,
   "id": "0d265d4f",
   "metadata": {
    "execution": {
     "iopub.execute_input": "2021-12-05T05:27:26.124754Z",
     "iopub.status.busy": "2021-12-05T05:27:26.124096Z",
     "iopub.status.idle": "2021-12-05T05:27:26.162686Z",
     "shell.execute_reply": "2021-12-05T05:27:26.163245Z",
     "shell.execute_reply.started": "2021-12-05T05:17:38.360399Z"
    },
    "papermill": {
     "duration": 0.072468,
     "end_time": "2021-12-05T05:27:26.163422",
     "exception": false,
     "start_time": "2021-12-05T05:27:26.090954",
     "status": "completed"
    },
    "tags": []
   },
   "outputs": [
    {
     "name": "stdout",
     "output_type": "stream",
     "text": [
      "Empty questions:\n"
     ]
    },
    {
     "name": "stderr",
     "output_type": "stream",
     "text": [
      "100%|██████████| 1706/1706 [00:00<00:00, 336317.10it/s]\n",
      "100%|██████████| 1704/1704 [00:00<00:00, 785740.33it/s]\n"
     ]
    },
    {
     "name": "stdout",
     "output_type": "stream",
     "text": [
      "\n",
      "Empty Answers:\n"
     ]
    },
    {
     "name": "stderr",
     "output_type": "stream",
     "text": [
      "100%|██████████| 1704/1704 [00:00<00:00, 301756.13it/s]\n",
      "100%|██████████| 1699/1699 [00:00<00:00, 1188677.65it/s]\n"
     ]
    }
   ],
   "source": [
    "# Further checking about  empty questions or answers\n",
    "qa_token.reset_index(drop=True, inplace = True)\n",
    "print(\"Empty questions:\")\n",
    "for i, d in enumerate(tqdm(qa_token['question_token'].values.tolist())):\n",
    "    if d == []:\n",
    "        qa_token.drop(i, inplace=True)\n",
    "        \n",
    "for i, d in enumerate(tqdm(qa_token['question_token'].values.tolist())):\n",
    "    if d == []:\n",
    "        print(i)\n",
    "\n",
    "qa_token.reset_index(drop=True, inplace = True)\n",
    "print(\"\")\n",
    "print(\"Empty Answers:\")        \n",
    "for i, d in enumerate(tqdm(qa_token['answer_token'].values.tolist())):\n",
    "    if d == []:\n",
    "        qa_token.drop(i, inplace=True)\n",
    "        \n",
    "for i, d in enumerate(tqdm(qa_token['answer_token'].values.tolist())):\n",
    "    if d == []:\n",
    "        print(i)"
   ]
  },
  {
   "cell_type": "code",
   "execution_count": 12,
   "id": "a04c9d1e",
   "metadata": {
    "execution": {
     "iopub.execute_input": "2021-12-05T05:27:26.261834Z",
     "iopub.status.busy": "2021-12-05T05:27:26.247177Z",
     "iopub.status.idle": "2021-12-05T05:27:26.275147Z",
     "shell.execute_reply": "2021-12-05T05:27:26.274545Z",
     "shell.execute_reply.started": "2021-12-05T05:17:38.397825Z"
    },
    "papermill": {
     "duration": 0.076806,
     "end_time": "2021-12-05T05:27:26.275311",
     "exception": false,
     "start_time": "2021-12-05T05:27:26.198505",
     "status": "completed"
    },
    "tags": []
   },
   "outputs": [],
   "source": [
    "# Counter and vocab for question and answers\n",
    "cnt_q = tweet_counter(qa_token[\"question_token\"])\n",
    "cnt_a = tweet_counter(qa_token[\"answer_token\"])\n",
    "vocab_ql = sorted(list(cnt_q))\n",
    "vocab_al = sorted(list(cnt_a))"
   ]
  },
  {
   "cell_type": "code",
   "execution_count": 13,
   "id": "977df688",
   "metadata": {
    "execution": {
     "iopub.execute_input": "2021-12-05T05:27:26.349493Z",
     "iopub.status.busy": "2021-12-05T05:27:26.348806Z",
     "iopub.status.idle": "2021-12-05T05:27:26.359628Z",
     "shell.execute_reply": "2021-12-05T05:27:26.358930Z",
     "shell.execute_reply.started": "2021-12-05T05:17:38.440477Z"
    },
    "papermill": {
     "duration": 0.049635,
     "end_time": "2021-12-05T05:27:26.359780",
     "exception": false,
     "start_time": "2021-12-05T05:27:26.310145",
     "status": "completed"
    },
    "tags": []
   },
   "outputs": [
    {
     "name": "stdout",
     "output_type": "stream",
     "text": [
      "4028\n"
     ]
    }
   ],
   "source": [
    "# Create final vocab and index lists\n",
    "vocab = set(vocab_ql).union(set(vocab_al))\n",
    "vocab = sorted(list(vocab))\n",
    "vocab_dict = {} \n",
    "for i, word in enumerate(vocab): \n",
    "    vocab_dict[word] = i   \n",
    "print(len(vocab))"
   ]
  },
  {
   "cell_type": "code",
   "execution_count": 14,
   "id": "47ab25ee",
   "metadata": {
    "execution": {
     "iopub.execute_input": "2021-12-05T05:27:26.444727Z",
     "iopub.status.busy": "2021-12-05T05:27:26.443993Z",
     "iopub.status.idle": "2021-12-05T05:27:26.475090Z",
     "shell.execute_reply": "2021-12-05T05:27:26.475550Z",
     "shell.execute_reply.started": "2021-12-05T05:17:38.456782Z"
    },
    "papermill": {
     "duration": 0.079537,
     "end_time": "2021-12-05T05:27:26.475727",
     "exception": false,
     "start_time": "2021-12-05T05:27:26.396190",
     "status": "completed"
    },
    "tags": []
   },
   "outputs": [
    {
     "data": {
      "text/html": [
       "<div>\n",
       "<style scoped>\n",
       "    .dataframe tbody tr th:only-of-type {\n",
       "        vertical-align: middle;\n",
       "    }\n",
       "\n",
       "    .dataframe tbody tr th {\n",
       "        vertical-align: top;\n",
       "    }\n",
       "\n",
       "    .dataframe thead th {\n",
       "        text-align: right;\n",
       "    }\n",
       "</style>\n",
       "<table border=\"1\" class=\"dataframe\">\n",
       "  <thead>\n",
       "    <tr style=\"text-align: right;\">\n",
       "      <th></th>\n",
       "      <th>question_index</th>\n",
       "      <th>answer_index</th>\n",
       "    </tr>\n",
       "  </thead>\n",
       "  <tbody>\n",
       "    <tr>\n",
       "      <th>0</th>\n",
       "      <td>[2511, 3726, 4007, 1808, 366, 3455]</td>\n",
       "      <td>[1559, 4022, 3088, 148, 3443, 3837, 1211, 3141...</td>\n",
       "    </tr>\n",
       "    <tr>\n",
       "      <th>1</th>\n",
       "      <td>[4016, 1292, 2649, 1218, 4024, 2306, 1723, 118...</td>\n",
       "      <td>[2324, 3735, 1182, 0, 1857, 620, 335, 2653, 37...</td>\n",
       "    </tr>\n",
       "    <tr>\n",
       "      <th>2</th>\n",
       "      <td>[3963, 745, 2424, 1734, 1808, 366, 3662, 1187,...</td>\n",
       "      <td>[3088, 148, 3443, 2766, 1211, 3141, 2786, 3530...</td>\n",
       "    </tr>\n",
       "    <tr>\n",
       "      <th>3</th>\n",
       "      <td>[1238, 1211, 1521, 2659, 4022, 3446, 2766, 131...</td>\n",
       "      <td>[3726, 2468, 3039, 1015, 64, 3765, 3726, 1229,...</td>\n",
       "    </tr>\n",
       "    <tr>\n",
       "      <th>4</th>\n",
       "      <td>[4016, 759, 1187, 4024, 1808, 366, 3455, 3292,...</td>\n",
       "      <td>[2362, 693, 1187, 2860, 1335, 790, 2199, 1332,...</td>\n",
       "    </tr>\n",
       "    <tr>\n",
       "      <th>...</th>\n",
       "      <td>...</td>\n",
       "      <td>...</td>\n",
       "    </tr>\n",
       "    <tr>\n",
       "      <th>1699</th>\n",
       "      <td>[2424, 1305, 2027, 1023, 3145, 3964, 3991, 115...</td>\n",
       "      <td>[2424, 1305, 3548, 983, 3765, 2356, 1218, 3743...</td>\n",
       "    </tr>\n",
       "    <tr>\n",
       "      <th>1700</th>\n",
       "      <td>[3446, 4022, 2322, 1211, 1814, 701, 2892, 2299...</td>\n",
       "      <td>[2351, 1163, 1182, 0, 3548, 983, 1218, 3726, 3...</td>\n",
       "    </tr>\n",
       "    <tr>\n",
       "      <th>1701</th>\n",
       "      <td>[3088, 148, 3431, 1814, 701]</td>\n",
       "      <td>[2324, 474, 1182, 0, 3296, 507, 3765, 4024, 18...</td>\n",
       "    </tr>\n",
       "    <tr>\n",
       "      <th>1702</th>\n",
       "      <td>[1218, 3765, 1652, 2860, 1229, 1188, 2860, 184...</td>\n",
       "      <td>[2892, 2934, 1332, 3538, 1314, 3757, 2325, 144...</td>\n",
       "    </tr>\n",
       "    <tr>\n",
       "      <th>1703</th>\n",
       "      <td>[2424, 2347, 1367, 2199, 1418, 1229, 1192, 376...</td>\n",
       "      <td>[3548, 983, 3765, 2356, 1218, 3743, 1188, 3088...</td>\n",
       "    </tr>\n",
       "  </tbody>\n",
       "</table>\n",
       "<p>1699 rows × 2 columns</p>\n",
       "</div>"
      ],
      "text/plain": [
       "                                         question_index  \\\n",
       "0                   [2511, 3726, 4007, 1808, 366, 3455]   \n",
       "1     [4016, 1292, 2649, 1218, 4024, 2306, 1723, 118...   \n",
       "2     [3963, 745, 2424, 1734, 1808, 366, 3662, 1187,...   \n",
       "3     [1238, 1211, 1521, 2659, 4022, 3446, 2766, 131...   \n",
       "4     [4016, 759, 1187, 4024, 1808, 366, 3455, 3292,...   \n",
       "...                                                 ...   \n",
       "1699  [2424, 1305, 2027, 1023, 3145, 3964, 3991, 115...   \n",
       "1700  [3446, 4022, 2322, 1211, 1814, 701, 2892, 2299...   \n",
       "1701                       [3088, 148, 3431, 1814, 701]   \n",
       "1702  [1218, 3765, 1652, 2860, 1229, 1188, 2860, 184...   \n",
       "1703  [2424, 2347, 1367, 2199, 1418, 1229, 1192, 376...   \n",
       "\n",
       "                                           answer_index  \n",
       "0     [1559, 4022, 3088, 148, 3443, 3837, 1211, 3141...  \n",
       "1     [2324, 3735, 1182, 0, 1857, 620, 335, 2653, 37...  \n",
       "2     [3088, 148, 3443, 2766, 1211, 3141, 2786, 3530...  \n",
       "3     [3726, 2468, 3039, 1015, 64, 3765, 3726, 1229,...  \n",
       "4     [2362, 693, 1187, 2860, 1335, 790, 2199, 1332,...  \n",
       "...                                                 ...  \n",
       "1699  [2424, 1305, 3548, 983, 3765, 2356, 1218, 3743...  \n",
       "1700  [2351, 1163, 1182, 0, 3548, 983, 1218, 3726, 3...  \n",
       "1701  [2324, 474, 1182, 0, 3296, 507, 3765, 4024, 18...  \n",
       "1702  [2892, 2934, 1332, 3538, 1314, 3757, 2325, 144...  \n",
       "1703  [3548, 983, 3765, 2356, 1218, 3743, 1188, 3088...  \n",
       "\n",
       "[1699 rows x 2 columns]"
      ]
     },
     "execution_count": 14,
     "metadata": {},
     "output_type": "execute_result"
    }
   ],
   "source": [
    "# Create index list for each sentence for questions and answers\n",
    "qa_index = pd.DataFrame(columns = [\"question_index\", \"answer_index\"])\n",
    "qa_index[\"question_index\"] = qa_token[\"question_token\"].apply(lambda x: index_tweet(vocab_dict,x))\n",
    "qa_index[\"answer_index\"] = qa_token[\"answer_token\"].apply(lambda x: index_tweet(vocab_dict,x))\n",
    "qa_index"
   ]
  },
  {
   "cell_type": "code",
   "execution_count": 15,
   "id": "594b634b",
   "metadata": {
    "execution": {
     "iopub.execute_input": "2021-12-05T05:27:26.550512Z",
     "iopub.status.busy": "2021-12-05T05:27:26.549826Z",
     "iopub.status.idle": "2021-12-05T05:27:26.590335Z",
     "shell.execute_reply": "2021-12-05T05:27:26.589720Z",
     "shell.execute_reply.started": "2021-12-05T05:17:38.511134Z"
    },
    "papermill": {
     "duration": 0.079081,
     "end_time": "2021-12-05T05:27:26.590488",
     "exception": false,
     "start_time": "2021-12-05T05:27:26.511407",
     "status": "completed"
    },
    "tags": []
   },
   "outputs": [],
   "source": [
    "#Save data to csv and txt files\n",
    "qa_index.to_csv(\"index.csv\", index=False)\n",
    "with open('vocab.txt', 'w') as f:\n",
    "    for item in vocab_dict:\n",
    "        f.write(\"%s\\n\" % item)\n"
   ]
  }
 ],
 "metadata": {
  "kernelspec": {
   "display_name": "Python 3",
   "language": "python",
   "name": "python3"
  },
  "language_info": {
   "codemirror_mode": {
    "name": "ipython",
    "version": 3
   },
   "file_extension": ".py",
   "mimetype": "text/x-python",
   "name": "python",
   "nbconvert_exporter": "python",
   "pygments_lexer": "ipython3",
   "version": "3.6.7"
  },
  "papermill": {
   "default_parameters": {},
   "duration": 103.306504,
   "end_time": "2021-12-05T05:27:27.737678",
   "environment_variables": {},
   "exception": null,
   "input_path": "__notebook__.ipynb",
   "output_path": "__notebook__.ipynb",
   "parameters": {},
   "start_time": "2021-12-05T05:25:44.431174",
   "version": "2.3.3"
  }
 },
 "nbformat": 4,
 "nbformat_minor": 5
}
