{
 "cells": [
  {
   "cell_type": "code",
   "execution_count": 1,
   "id": "b0e23707",
   "metadata": {
    "execution": {
     "iopub.execute_input": "2021-11-06T02:34:18.422118Z",
     "iopub.status.busy": "2021-11-06T02:34:18.418906Z",
     "iopub.status.idle": "2021-11-06T02:34:32.957801Z",
     "shell.execute_reply": "2021-11-06T02:34:32.958577Z",
     "shell.execute_reply.started": "2021-11-06T02:01:27.630696Z"
    },
    "papermill": {
     "duration": 14.560904,
     "end_time": "2021-11-06T02:34:32.958990",
     "exception": false,
     "start_time": "2021-11-06T02:34:18.398086",
     "status": "completed"
    },
    "tags": []
   },
   "outputs": [
    {
     "name": "stdout",
     "output_type": "stream",
     "text": [
      "Collecting langdetect\r\n",
      "  Downloading langdetect-1.0.9.tar.gz (981 kB)\r\n",
      "\u001b[K     |████████████████████████████████| 981 kB 288 kB/s \r\n",
      "\u001b[?25hRequirement already satisfied: six in /opt/conda/lib/python3.7/site-packages (from langdetect) (1.16.0)\r\n",
      "Building wheels for collected packages: langdetect\r\n",
      "  Building wheel for langdetect (setup.py) ... \u001b[?25l-\b \b\\\b \b|\b \b/\b \bdone\r\n",
      "\u001b[?25h  Created wheel for langdetect: filename=langdetect-1.0.9-py3-none-any.whl size=993242 sha256=016dd1043c71a638302cb996693a6b1398240828775565913e1fe7242b35807b\r\n",
      "  Stored in directory: /root/.cache/pip/wheels/c5/96/8a/f90c59ed25d75e50a8c10a1b1c2d4c402e4dacfa87f3aff36a\r\n",
      "Successfully built langdetect\r\n",
      "Installing collected packages: langdetect\r\n",
      "Successfully installed langdetect-1.0.9\r\n",
      "\u001b[33mWARNING: Running pip as the 'root' user can result in broken permissions and conflicting behaviour with the system package manager. It is recommended to use a virtual environment instead: https://pip.pypa.io/warnings/venv\u001b[0m\r\n",
      "Note: you may need to restart the kernel to use updated packages.\n"
     ]
    }
   ],
   "source": [
    "pip install langdetect"
   ]
  },
  {
   "cell_type": "code",
   "execution_count": 2,
   "id": "ecb832c8",
   "metadata": {
    "execution": {
     "iopub.execute_input": "2021-11-06T02:34:33.009646Z",
     "iopub.status.busy": "2021-11-06T02:34:33.008941Z",
     "iopub.status.idle": "2021-11-06T02:34:42.793406Z",
     "shell.execute_reply": "2021-11-06T02:34:42.792868Z",
     "shell.execute_reply.started": "2021-11-06T02:11:07.153663Z"
    },
    "papermill": {
     "duration": 9.813855,
     "end_time": "2021-11-06T02:34:42.793547",
     "exception": false,
     "start_time": "2021-11-06T02:34:32.979692",
     "status": "completed"
    },
    "tags": []
   },
   "outputs": [
    {
     "name": "stdout",
     "output_type": "stream",
     "text": [
      "Collecting bpemb\r\n",
      "  Downloading bpemb-0.3.3-py3-none-any.whl (19 kB)\r\n",
      "Requirement already satisfied: tqdm in /opt/conda/lib/python3.7/site-packages (from bpemb) (4.62.3)\r\n",
      "Requirement already satisfied: numpy in /opt/conda/lib/python3.7/site-packages (from bpemb) (1.19.5)\r\n",
      "Requirement already satisfied: gensim in /opt/conda/lib/python3.7/site-packages (from bpemb) (4.0.1)\r\n",
      "Requirement already satisfied: sentencepiece in /opt/conda/lib/python3.7/site-packages (from bpemb) (0.1.96)\r\n",
      "Requirement already satisfied: requests in /opt/conda/lib/python3.7/site-packages (from bpemb) (2.25.1)\r\n",
      "Requirement already satisfied: smart-open>=1.8.1 in /opt/conda/lib/python3.7/site-packages (from gensim->bpemb) (5.2.1)\r\n",
      "Requirement already satisfied: scipy>=0.18.1 in /opt/conda/lib/python3.7/site-packages (from gensim->bpemb) (1.7.1)\r\n",
      "Requirement already satisfied: chardet<5,>=3.0.2 in /opt/conda/lib/python3.7/site-packages (from requests->bpemb) (4.0.0)\r\n",
      "Requirement already satisfied: idna<3,>=2.5 in /opt/conda/lib/python3.7/site-packages (from requests->bpemb) (2.10)\r\n",
      "Requirement already satisfied: certifi>=2017.4.17 in /opt/conda/lib/python3.7/site-packages (from requests->bpemb) (2021.10.8)\r\n",
      "Requirement already satisfied: urllib3<1.27,>=1.21.1 in /opt/conda/lib/python3.7/site-packages (from requests->bpemb) (1.26.6)\r\n",
      "Installing collected packages: bpemb\r\n",
      "Successfully installed bpemb-0.3.3\r\n",
      "\u001b[33mWARNING: Running pip as the 'root' user can result in broken permissions and conflicting behaviour with the system package manager. It is recommended to use a virtual environment instead: https://pip.pypa.io/warnings/venv\u001b[0m\r\n",
      "Note: you may need to restart the kernel to use updated packages.\n"
     ]
    }
   ],
   "source": [
    "pip install bpemb"
   ]
  },
  {
   "cell_type": "code",
   "execution_count": 3,
   "id": "76a7331a",
   "metadata": {
    "execution": {
     "iopub.execute_input": "2021-11-06T02:34:42.843720Z",
     "iopub.status.busy": "2021-11-06T02:34:42.843023Z",
     "iopub.status.idle": "2021-11-06T02:34:44.463033Z",
     "shell.execute_reply": "2021-11-06T02:34:44.462323Z",
     "shell.execute_reply.started": "2021-11-06T02:11:37.860997Z"
    },
    "papermill": {
     "duration": 1.6478,
     "end_time": "2021-11-06T02:34:44.463188",
     "exception": false,
     "start_time": "2021-11-06T02:34:42.815388",
     "status": "completed"
    },
    "tags": []
   },
   "outputs": [],
   "source": [
    "import numpy as np\n",
    "from nltk.corpus import stopwords\n",
    "import pandas as pd\n",
    "import re\n",
    "import nltk\n",
    "import string\n",
    "from collections import Counter\n",
    "from nltk.stem.porter import PorterStemmer\n",
    "from nltk.stem import WordNetLemmatizer\n",
    "from nltk.tokenize import TweetTokenizer\n",
    "from langdetect import detect\n",
    "import emoji\n",
    "from bpemb import BPEmb"
   ]
  },
  {
   "cell_type": "code",
   "execution_count": 4,
   "id": "c9858bd4",
   "metadata": {
    "execution": {
     "iopub.execute_input": "2021-11-06T02:34:44.512015Z",
     "iopub.status.busy": "2021-11-06T02:34:44.511333Z",
     "iopub.status.idle": "2021-11-06T02:35:03.241839Z",
     "shell.execute_reply": "2021-11-06T02:35:03.242361Z",
     "shell.execute_reply.started": "2021-11-06T02:01:46.741665Z"
    },
    "papermill": {
     "duration": 18.757689,
     "end_time": "2021-11-06T02:35:03.242530",
     "exception": false,
     "start_time": "2021-11-06T02:34:44.484841",
     "status": "completed"
    },
    "tags": []
   },
   "outputs": [
    {
     "data": {
      "text/html": [
       "<div>\n",
       "<style scoped>\n",
       "    .dataframe tbody tr th:only-of-type {\n",
       "        vertical-align: middle;\n",
       "    }\n",
       "\n",
       "    .dataframe tbody tr th {\n",
       "        vertical-align: top;\n",
       "    }\n",
       "\n",
       "    .dataframe thead th {\n",
       "        text-align: right;\n",
       "    }\n",
       "</style>\n",
       "<table border=\"1\" class=\"dataframe\">\n",
       "  <thead>\n",
       "    <tr style=\"text-align: right;\">\n",
       "      <th></th>\n",
       "      <th>tweet_id</th>\n",
       "      <th>author_id</th>\n",
       "      <th>inbound</th>\n",
       "      <th>created_at</th>\n",
       "      <th>text</th>\n",
       "      <th>response_tweet_id</th>\n",
       "      <th>in_response_to_tweet_id</th>\n",
       "    </tr>\n",
       "  </thead>\n",
       "  <tbody>\n",
       "    <tr>\n",
       "      <th>0</th>\n",
       "      <td>1</td>\n",
       "      <td>sprintcare</td>\n",
       "      <td>False</td>\n",
       "      <td>Tue Oct 31 22:10:47 +0000 2017</td>\n",
       "      <td>@115712 I understand. I would like to assist y...</td>\n",
       "      <td>2</td>\n",
       "      <td>3.0</td>\n",
       "    </tr>\n",
       "    <tr>\n",
       "      <th>1</th>\n",
       "      <td>2</td>\n",
       "      <td>115712</td>\n",
       "      <td>True</td>\n",
       "      <td>Tue Oct 31 22:11:45 +0000 2017</td>\n",
       "      <td>@sprintcare and how do you propose we do that</td>\n",
       "      <td>NaN</td>\n",
       "      <td>1.0</td>\n",
       "    </tr>\n",
       "    <tr>\n",
       "      <th>2</th>\n",
       "      <td>3</td>\n",
       "      <td>115712</td>\n",
       "      <td>True</td>\n",
       "      <td>Tue Oct 31 22:08:27 +0000 2017</td>\n",
       "      <td>@sprintcare I have sent several private messag...</td>\n",
       "      <td>1</td>\n",
       "      <td>4.0</td>\n",
       "    </tr>\n",
       "    <tr>\n",
       "      <th>3</th>\n",
       "      <td>4</td>\n",
       "      <td>sprintcare</td>\n",
       "      <td>False</td>\n",
       "      <td>Tue Oct 31 21:54:49 +0000 2017</td>\n",
       "      <td>@115712 Please send us a Private Message so th...</td>\n",
       "      <td>3</td>\n",
       "      <td>5.0</td>\n",
       "    </tr>\n",
       "    <tr>\n",
       "      <th>4</th>\n",
       "      <td>5</td>\n",
       "      <td>115712</td>\n",
       "      <td>True</td>\n",
       "      <td>Tue Oct 31 21:49:35 +0000 2017</td>\n",
       "      <td>@sprintcare I did.</td>\n",
       "      <td>4</td>\n",
       "      <td>6.0</td>\n",
       "    </tr>\n",
       "  </tbody>\n",
       "</table>\n",
       "</div>"
      ],
      "text/plain": [
       "   tweet_id   author_id  inbound                      created_at  \\\n",
       "0         1  sprintcare    False  Tue Oct 31 22:10:47 +0000 2017   \n",
       "1         2      115712     True  Tue Oct 31 22:11:45 +0000 2017   \n",
       "2         3      115712     True  Tue Oct 31 22:08:27 +0000 2017   \n",
       "3         4  sprintcare    False  Tue Oct 31 21:54:49 +0000 2017   \n",
       "4         5      115712     True  Tue Oct 31 21:49:35 +0000 2017   \n",
       "\n",
       "                                                text response_tweet_id  \\\n",
       "0  @115712 I understand. I would like to assist y...                 2   \n",
       "1      @sprintcare and how do you propose we do that               NaN   \n",
       "2  @sprintcare I have sent several private messag...                 1   \n",
       "3  @115712 Please send us a Private Message so th...                 3   \n",
       "4                                 @sprintcare I did.                 4   \n",
       "\n",
       "   in_response_to_tweet_id  \n",
       "0                      3.0  \n",
       "1                      1.0  \n",
       "2                      4.0  \n",
       "3                      5.0  \n",
       "4                      6.0  "
      ]
     },
     "execution_count": 4,
     "metadata": {},
     "output_type": "execute_result"
    }
   ],
   "source": [
    "df = pd.read_csv(\"./customer-support-on-twitter/twcs/twcs.csv\")\n",
    "#df = pd.read_csv(\"../input/customer-support-on-twitter/twcs/twcs.csv\")\n",
    "df.head()"
   ]
  },
  {
   "cell_type": "code",
   "execution_count": 5,
   "id": "87ccf8a1",
   "metadata": {
    "execution": {
     "iopub.execute_input": "2021-11-06T02:35:03.293934Z",
     "iopub.status.busy": "2021-11-06T02:35:03.293219Z",
     "iopub.status.idle": "2021-11-06T02:35:03.295841Z",
     "shell.execute_reply": "2021-11-06T02:35:03.296315Z",
     "shell.execute_reply.started": "2021-11-06T02:01:58.032470Z"
    },
    "papermill": {
     "duration": 0.031671,
     "end_time": "2021-11-06T02:35:03.296503",
     "exception": false,
     "start_time": "2021-11-06T02:35:03.264832",
     "status": "completed"
    },
    "tags": []
   },
   "outputs": [],
   "source": [
    "def keepEnglish(d):\n",
    "    mask = []\n",
    "    \n",
    "    for i,doc in enumerate(d[\"text\"]) :\n",
    "        try:\n",
    "            if doc and 'en' == detect(doc) :\n",
    "                mask.append(True)\n",
    "            else:\n",
    "                mask.append(False)\n",
    "        except Exception:\n",
    "            mask.append(False)\n",
    "\n",
    "    return mask"
   ]
  },
  {
   "cell_type": "code",
   "execution_count": 6,
   "id": "c2b04bb7",
   "metadata": {
    "execution": {
     "iopub.execute_input": "2021-11-06T02:35:03.348761Z",
     "iopub.status.busy": "2021-11-06T02:35:03.348028Z",
     "iopub.status.idle": "2021-11-06T09:05:47.925229Z",
     "shell.execute_reply": "2021-11-06T09:05:47.924482Z",
     "shell.execute_reply.started": "2021-11-06T02:01:59.946489Z"
    },
    "papermill": {
     "duration": 23444.606613,
     "end_time": "2021-11-06T09:05:47.925393",
     "exception": false,
     "start_time": "2021-11-06T02:35:03.318780",
     "status": "completed"
    },
    "tags": []
   },
   "outputs": [],
   "source": [
    "mask = keepEnglish(df)\n",
    "df = df[mask]\n",
    "df['text'] = df[\"text\"].str.lower()"
   ]
  },
  {
   "cell_type": "code",
   "execution_count": 7,
   "id": "75fd8eb5",
   "metadata": {
    "execution": {
     "iopub.execute_input": "2021-11-06T09:05:47.979948Z",
     "iopub.status.busy": "2021-11-06T09:05:47.979185Z",
     "iopub.status.idle": "2021-11-06T09:05:50.870357Z",
     "shell.execute_reply": "2021-11-06T09:05:50.869795Z",
     "shell.execute_reply.started": "2021-11-06T02:02:42.413930Z"
    },
    "papermill": {
     "duration": 2.921711,
     "end_time": "2021-11-06T09:05:50.870501",
     "exception": false,
     "start_time": "2021-11-06T09:05:47.948790",
     "status": "completed"
    },
    "tags": []
   },
   "outputs": [
    {
     "data": {
      "text/html": [
       "<div>\n",
       "<style scoped>\n",
       "    .dataframe tbody tr th:only-of-type {\n",
       "        vertical-align: middle;\n",
       "    }\n",
       "\n",
       "    .dataframe tbody tr th {\n",
       "        vertical-align: top;\n",
       "    }\n",
       "\n",
       "    .dataframe thead th {\n",
       "        text-align: right;\n",
       "    }\n",
       "</style>\n",
       "<table border=\"1\" class=\"dataframe\">\n",
       "  <thead>\n",
       "    <tr style=\"text-align: right;\">\n",
       "      <th></th>\n",
       "      <th>questions</th>\n",
       "      <th>answers</th>\n",
       "    </tr>\n",
       "  </thead>\n",
       "  <tbody>\n",
       "    <tr>\n",
       "      <th>0</th>\n",
       "      <td>@sprintcare is the worst customer service</td>\n",
       "      <td>@115712 can you please send us a private messa...</td>\n",
       "    </tr>\n",
       "    <tr>\n",
       "      <th>1</th>\n",
       "      <td>@sprintcare is the worst customer service</td>\n",
       "      <td>@115712 i would love the chance to review the ...</td>\n",
       "    </tr>\n",
       "    <tr>\n",
       "      <th>2</th>\n",
       "      <td>@sprintcare is the worst customer service</td>\n",
       "      <td>@115712 hello! we never like our customers to ...</td>\n",
       "    </tr>\n",
       "    <tr>\n",
       "      <th>3</th>\n",
       "      <td>@115714 y’all lie about your “great” connectio...</td>\n",
       "      <td>@115713 h there! we'd definitely like to work ...</td>\n",
       "    </tr>\n",
       "    <tr>\n",
       "      <th>4</th>\n",
       "      <td>@115714 whenever i contact customer support, t...</td>\n",
       "      <td>@115715 please send me a private message so th...</td>\n",
       "    </tr>\n",
       "    <tr>\n",
       "      <th>...</th>\n",
       "      <td>...</td>\n",
       "      <td>...</td>\n",
       "    </tr>\n",
       "    <tr>\n",
       "      <th>810149</th>\n",
       "      <td>hai @airasiasupport #asking how many days need...</td>\n",
       "      <td>@823867 we have replied you via dm.thanks-emir</td>\n",
       "    </tr>\n",
       "    <tr>\n",
       "      <th>810150</th>\n",
       "      <td>@airasiasupport \\n\\ni am unable to do web chec...</td>\n",
       "      <td>@823868 sorry but kindly try to clear browser,...</td>\n",
       "    </tr>\n",
       "    <tr>\n",
       "      <th>810151</th>\n",
       "      <td>@virgintrains hope you are well? does the 9.30...</td>\n",
       "      <td>@524544 that's a peak service. the 09:56 is th...</td>\n",
       "    </tr>\n",
       "    <tr>\n",
       "      <th>810152</th>\n",
       "      <td>@115714 wtf!? i’ve been having really shitty s...</td>\n",
       "      <td>@823869 hey, we'd be happy to look into this f...</td>\n",
       "    </tr>\n",
       "    <tr>\n",
       "      <th>810153</th>\n",
       "      <td>@aldiuk  warm sloe gin mince pies with ice cre...</td>\n",
       "      <td>@823870 sounds delicious, sarah! 😋 https://t.c...</td>\n",
       "    </tr>\n",
       "  </tbody>\n",
       "</table>\n",
       "<p>810154 rows × 2 columns</p>\n",
       "</div>"
      ],
      "text/plain": [
       "                                                questions  \\\n",
       "0               @sprintcare is the worst customer service   \n",
       "1               @sprintcare is the worst customer service   \n",
       "2               @sprintcare is the worst customer service   \n",
       "3       @115714 y’all lie about your “great” connectio...   \n",
       "4       @115714 whenever i contact customer support, t...   \n",
       "...                                                   ...   \n",
       "810149  hai @airasiasupport #asking how many days need...   \n",
       "810150  @airasiasupport \\n\\ni am unable to do web chec...   \n",
       "810151  @virgintrains hope you are well? does the 9.30...   \n",
       "810152  @115714 wtf!? i’ve been having really shitty s...   \n",
       "810153  @aldiuk  warm sloe gin mince pies with ice cre...   \n",
       "\n",
       "                                                  answers  \n",
       "0       @115712 can you please send us a private messa...  \n",
       "1       @115712 i would love the chance to review the ...  \n",
       "2       @115712 hello! we never like our customers to ...  \n",
       "3       @115713 h there! we'd definitely like to work ...  \n",
       "4       @115715 please send me a private message so th...  \n",
       "...                                                   ...  \n",
       "810149     @823867 we have replied you via dm.thanks-emir  \n",
       "810150  @823868 sorry but kindly try to clear browser,...  \n",
       "810151  @524544 that's a peak service. the 09:56 is th...  \n",
       "810152  @823869 hey, we'd be happy to look into this f...  \n",
       "810153  @823870 sounds delicious, sarah! 😋 https://t.c...  \n",
       "\n",
       "[810154 rows x 2 columns]"
      ]
     },
     "execution_count": 7,
     "metadata": {},
     "output_type": "execute_result"
    }
   ],
   "source": [
    "df_q= df[pd.isnull(df.in_response_to_tweet_id) & df.inbound]\n",
    "df_qa = pd.merge(df_q, df, left_on='tweet_id', right_on='in_response_to_tweet_id')\n",
    "qa_tweets = df_qa[[\"text_x\",\"text_y\"]]\n",
    "qa_tweets.columns = [\"questions\",\"answers\"]\n",
    "qa_tweets"
   ]
  },
  {
   "cell_type": "code",
   "execution_count": 8,
   "id": "6c9103df",
   "metadata": {
    "execution": {
     "iopub.execute_input": "2021-11-06T09:05:50.930341Z",
     "iopub.status.busy": "2021-11-06T09:05:50.929580Z",
     "iopub.status.idle": "2021-11-06T09:06:00.050119Z",
     "shell.execute_reply": "2021-11-06T09:06:00.049501Z",
     "shell.execute_reply.started": "2021-11-06T02:31:53.614846Z"
    },
    "papermill": {
     "duration": 9.157102,
     "end_time": "2021-11-06T09:06:00.050277",
     "exception": false,
     "start_time": "2021-11-06T09:05:50.893175",
     "status": "completed"
    },
    "tags": []
   },
   "outputs": [
    {
     "name": "stdout",
     "output_type": "stream",
     "text": [
      "downloading https://nlp.h-its.org/bpemb/en/en.wiki.bpe.vs10000.model\n"
     ]
    },
    {
     "name": "stderr",
     "output_type": "stream",
     "text": [
      "100%|██████████| 400869/400869 [00:01<00:00, 391520.88B/s]\n"
     ]
    },
    {
     "name": "stdout",
     "output_type": "stream",
     "text": [
      "downloading https://nlp.h-its.org/bpemb/en/en.wiki.bpe.vs10000.d100.w2v.bin.tar.gz\n"
     ]
    },
    {
     "name": "stderr",
     "output_type": "stream",
     "text": [
      "100%|██████████| 3784656/3784656 [00:01<00:00, 2096413.62B/s]\n"
     ]
    }
   ],
   "source": [
    "bpemb_en = BPEmb(lang=\"en\", dim=100)\n",
    "\n",
    "def clean_tweet(tweet):\n",
    "    lemmatizer = WordNetLemmatizer()\n",
    "    english_stopwords = set(stopwords.words(\"english\"))\n",
    "    digit_chr = re.compile(\"^[a-zA-Z0-9@_!#$%^&*()<>?/\\|}{~:,.]*$\")\n",
    "    tweet = re.sub(r'https?:\\/\\/.*[\\r\\n]*', '', tweet)\n",
    "    tweet = re.sub(r'#', '', tweet)\n",
    "    tweet = re.sub(r'\\$\\w*', '', tweet)\n",
    "    tweet = re.sub(r'^RT[\\s]+', '', tweet)\n",
    "    tokenizer = TweetTokenizer(preserve_case=False, strip_handles=True, reduce_len=True)\n",
    "    tweet_tokens = tokenizer.tokenize(tweet)\n",
    "   # tokenizer = tokenizers.BertWordPieceTokenizer(strip_accents=False)\n",
    "\n",
    "    tweets_cleaned = []\n",
    "    for word in tweet_tokens:\n",
    "        lemma_word = lemmatizer.lemmatize(word)\n",
    "        check = digit_chr.match(word)\n",
    "        if word not in  emoji.UNICODE_EMOJI['en'] and check:\n",
    "            tweets_cleaned.append(lemma_word)\n",
    "         \n",
    "    tweet_clean = \" \".join(tweets_cleaned)\n",
    "    tweet_bpe = bpemb_en.encode(tweet_clean)\n",
    "    return tweet_bpe\n",
    "\n",
    "def tweet_counter(df):\n",
    "    count = Counter()\n",
    "    for tweet in df.values:\n",
    "        for word in tweet:\n",
    "            count[word] += 1\n",
    "        \n",
    "    return count\n",
    "\n",
    "\n",
    "def index_tweet(vocab,tweet_list):\n",
    "    indice = [vocab[x] for x in tweet_list]\n",
    "    return indice"
   ]
  },
  {
   "cell_type": "code",
   "execution_count": 9,
   "id": "81ceb948",
   "metadata": {
    "execution": {
     "iopub.execute_input": "2021-11-06T09:06:00.110680Z",
     "iopub.status.busy": "2021-11-06T09:06:00.109902Z",
     "iopub.status.idle": "2021-11-06T09:27:18.788309Z",
     "shell.execute_reply": "2021-11-06T09:27:18.788897Z",
     "shell.execute_reply.started": "2021-11-06T02:31:56.205007Z"
    },
    "papermill": {
     "duration": 1278.710284,
     "end_time": "2021-11-06T09:27:18.789097",
     "exception": false,
     "start_time": "2021-11-06T09:06:00.078813",
     "status": "completed"
    },
    "tags": []
   },
   "outputs": [
    {
     "data": {
      "text/html": [
       "<div>\n",
       "<style scoped>\n",
       "    .dataframe tbody tr th:only-of-type {\n",
       "        vertical-align: middle;\n",
       "    }\n",
       "\n",
       "    .dataframe tbody tr th {\n",
       "        vertical-align: top;\n",
       "    }\n",
       "\n",
       "    .dataframe thead th {\n",
       "        text-align: right;\n",
       "    }\n",
       "</style>\n",
       "<table border=\"1\" class=\"dataframe\">\n",
       "  <thead>\n",
       "    <tr style=\"text-align: right;\">\n",
       "      <th></th>\n",
       "      <th>question_token</th>\n",
       "      <th>answer_token</th>\n",
       "    </tr>\n",
       "  </thead>\n",
       "  <tbody>\n",
       "    <tr>\n",
       "      <th>0</th>\n",
       "      <td>[▁is, ▁the, ▁worst, ▁custom, er, ▁service]</td>\n",
       "      <td>[▁can, ▁you, ▁ple, ase, ▁send, ▁u, ▁a, ▁privat...</td>\n",
       "    </tr>\n",
       "    <tr>\n",
       "      <th>1</th>\n",
       "      <td>[▁is, ▁the, ▁worst, ▁custom, er, ▁service]</td>\n",
       "      <td>[▁i, ▁would, ▁love, ▁the, ▁chance, ▁to, ▁revie...</td>\n",
       "    </tr>\n",
       "    <tr>\n",
       "      <th>2</th>\n",
       "      <td>[▁is, ▁the, ▁worst, ▁custom, er, ▁service]</td>\n",
       "      <td>[▁hel, lo, ▁, !, ▁we, ▁never, ▁like, ▁our, ▁cu...</td>\n",
       "    </tr>\n",
       "    <tr>\n",
       "      <th>3</th>\n",
       "      <td>[▁y, ▁all, ▁lie, ▁about, ▁your, ▁great, ▁conne...</td>\n",
       "      <td>[▁h, ▁there, ▁, !, ▁defin, it, ely, ▁like, ▁to...</td>\n",
       "    </tr>\n",
       "    <tr>\n",
       "      <th>4</th>\n",
       "      <td>[▁whe, never, ▁i, ▁contact, ▁custom, er, ▁supp...</td>\n",
       "      <td>[▁ple, ase, ▁send, ▁me, ▁a, ▁private, ▁message...</td>\n",
       "    </tr>\n",
       "  </tbody>\n",
       "</table>\n",
       "</div>"
      ],
      "text/plain": [
       "                                      question_token  \\\n",
       "0         [▁is, ▁the, ▁worst, ▁custom, er, ▁service]   \n",
       "1         [▁is, ▁the, ▁worst, ▁custom, er, ▁service]   \n",
       "2         [▁is, ▁the, ▁worst, ▁custom, er, ▁service]   \n",
       "3  [▁y, ▁all, ▁lie, ▁about, ▁your, ▁great, ▁conne...   \n",
       "4  [▁whe, never, ▁i, ▁contact, ▁custom, er, ▁supp...   \n",
       "\n",
       "                                        answer_token  \n",
       "0  [▁can, ▁you, ▁ple, ase, ▁send, ▁u, ▁a, ▁privat...  \n",
       "1  [▁i, ▁would, ▁love, ▁the, ▁chance, ▁to, ▁revie...  \n",
       "2  [▁hel, lo, ▁, !, ▁we, ▁never, ▁like, ▁our, ▁cu...  \n",
       "3  [▁h, ▁there, ▁, !, ▁defin, it, ely, ▁like, ▁to...  \n",
       "4  [▁ple, ase, ▁send, ▁me, ▁a, ▁private, ▁message...  "
      ]
     },
     "execution_count": 9,
     "metadata": {},
     "output_type": "execute_result"
    }
   ],
   "source": [
    "qa_token = pd.DataFrame(columns = [\"question_token\", \"answer_token\"])\n",
    "qa_token[\"question_token\"] = qa_tweets[\"questions\"].apply(lambda x: clean_tweet(x))\n",
    "qa_token[\"answer_token\"] = qa_tweets[\"answers\"].apply(lambda x: clean_tweet(x))\n",
    "qa_token.head()"
   ]
  },
  {
   "cell_type": "code",
   "execution_count": 10,
   "id": "59f57234",
   "metadata": {
    "execution": {
     "iopub.execute_input": "2021-11-06T09:27:18.850826Z",
     "iopub.status.busy": "2021-11-06T09:27:18.850104Z",
     "iopub.status.idle": "2021-11-06T09:27:33.779941Z",
     "shell.execute_reply": "2021-11-06T09:27:33.780538Z",
     "shell.execute_reply.started": "2021-11-06T02:32:07.366649Z"
    },
    "papermill": {
     "duration": 14.962623,
     "end_time": "2021-11-06T09:27:33.780743",
     "exception": false,
     "start_time": "2021-11-06T09:27:18.818120",
     "status": "completed"
    },
    "tags": []
   },
   "outputs": [],
   "source": [
    "cnt_q = tweet_counter(qa_token[\"question_token\"])\n",
    "cnt_a = tweet_counter(qa_token[\"answer_token\"])\n",
    "vocab_ql = sorted(list(cnt_q))\n",
    "vocab_al = sorted(list(cnt_a))"
   ]
  },
  {
   "cell_type": "code",
   "execution_count": 11,
   "id": "50f5febb",
   "metadata": {
    "execution": {
     "iopub.execute_input": "2021-11-06T09:27:33.843707Z",
     "iopub.status.busy": "2021-11-06T09:27:33.842992Z",
     "iopub.status.idle": "2021-11-06T09:27:33.867057Z",
     "shell.execute_reply": "2021-11-06T09:27:33.867717Z",
     "shell.execute_reply.started": "2021-11-06T02:32:11.000764Z"
    },
    "papermill": {
     "duration": 0.057393,
     "end_time": "2021-11-06T09:27:33.867899",
     "exception": false,
     "start_time": "2021-11-06T09:27:33.810506",
     "status": "completed"
    },
    "tags": []
   },
   "outputs": [
    {
     "name": "stdout",
     "output_type": "stream",
     "text": [
      "9282\n"
     ]
    }
   ],
   "source": [
    "vocab = set(vocab_ql).union(set(vocab_al))\n",
    "vocab = sorted(list(vocab))\n",
    "vocab_dict = {} \n",
    "for i, word in enumerate(vocab): \n",
    "    vocab_dict[word] = i   \n",
    "print(len(vocab))"
   ]
  },
  {
   "cell_type": "code",
   "execution_count": 12,
   "id": "a2690bfa",
   "metadata": {
    "execution": {
     "iopub.execute_input": "2021-11-06T09:27:33.931446Z",
     "iopub.status.busy": "2021-11-06T09:27:33.930761Z",
     "iopub.status.idle": "2021-11-06T09:27:46.604593Z",
     "shell.execute_reply": "2021-11-06T09:27:46.603897Z",
     "shell.execute_reply.started": "2021-11-06T02:32:14.297397Z"
    },
    "papermill": {
     "duration": 12.706078,
     "end_time": "2021-11-06T09:27:46.604764",
     "exception": false,
     "start_time": "2021-11-06T09:27:33.898686",
     "status": "completed"
    },
    "tags": []
   },
   "outputs": [
    {
     "data": {
      "text/html": [
       "<div>\n",
       "<style scoped>\n",
       "    .dataframe tbody tr th:only-of-type {\n",
       "        vertical-align: middle;\n",
       "    }\n",
       "\n",
       "    .dataframe tbody tr th {\n",
       "        vertical-align: top;\n",
       "    }\n",
       "\n",
       "    .dataframe thead th {\n",
       "        text-align: right;\n",
       "    }\n",
       "</style>\n",
       "<table border=\"1\" class=\"dataframe\">\n",
       "  <thead>\n",
       "    <tr style=\"text-align: right;\">\n",
       "      <th></th>\n",
       "      <th>question_index</th>\n",
       "      <th>answer_index</th>\n",
       "    </tr>\n",
       "  </thead>\n",
       "  <tbody>\n",
       "    <tr>\n",
       "      <th>0</th>\n",
       "      <td>[5943, 8669, 9230, 4360, 822, 8094]</td>\n",
       "      <td>[3736, 9267, 7262, 318, 8067, 8885, 2917, 7404...</td>\n",
       "    </tr>\n",
       "    <tr>\n",
       "      <th>1</th>\n",
       "      <td>[5943, 8669, 9230, 4360, 822, 8094]</td>\n",
       "      <td>[5716, 9232, 6334, 8669, 3864, 8738, 7827, 866...</td>\n",
       "    </tr>\n",
       "    <tr>\n",
       "      <th>2</th>\n",
       "      <td>[5943, 8669, 9230, 4360, 822, 8094]</td>\n",
       "      <td>[5573, 1651, 2871, 0, 9116, 6788, 6255, 7007, ...</td>\n",
       "    </tr>\n",
       "    <tr>\n",
       "      <th>3</th>\n",
       "      <td>[9253, 3106, 6245, 2932, 9272, 5448, 4154, 288...</td>\n",
       "      <td>[5500, 8683, 2871, 0, 4450, 1465, 749, 6255, 8...</td>\n",
       "    </tr>\n",
       "    <tr>\n",
       "      <th>4</th>\n",
       "      <td>[9149, 1769, 5716, 4196, 4360, 822, 8512, 2879...</td>\n",
       "      <td>[7262, 318, 8067, 6488, 2917, 7404, 6544, 8237...</td>\n",
       "    </tr>\n",
       "  </tbody>\n",
       "</table>\n",
       "</div>"
      ],
      "text/plain": [
       "                                      question_index  \\\n",
       "0                [5943, 8669, 9230, 4360, 822, 8094]   \n",
       "1                [5943, 8669, 9230, 4360, 822, 8094]   \n",
       "2                [5943, 8669, 9230, 4360, 822, 8094]   \n",
       "3  [9253, 3106, 6245, 2932, 9272, 5448, 4154, 288...   \n",
       "4  [9149, 1769, 5716, 4196, 4360, 822, 8512, 2879...   \n",
       "\n",
       "                                        answer_index  \n",
       "0  [3736, 9267, 7262, 318, 8067, 8885, 2917, 7404...  \n",
       "1  [5716, 9232, 6334, 8669, 3864, 8738, 7827, 866...  \n",
       "2  [5573, 1651, 2871, 0, 9116, 6788, 6255, 7007, ...  \n",
       "3  [5500, 8683, 2871, 0, 4450, 1465, 749, 6255, 8...  \n",
       "4  [7262, 318, 8067, 6488, 2917, 7404, 6544, 8237...  "
      ]
     },
     "execution_count": 12,
     "metadata": {},
     "output_type": "execute_result"
    }
   ],
   "source": [
    "qa_index = pd.DataFrame(columns = [\"question_index\", \"answer_index\"])\n",
    "qa_index[\"question_index\"] = qa_token[\"question_token\"].apply(lambda x: index_tweet(vocab_dict,x))\n",
    "qa_index[\"answer_index\"] = qa_token[\"answer_token\"].apply(lambda x: index_tweet(vocab_dict,x))\n",
    "qa_index.head()"
   ]
  },
  {
   "cell_type": "code",
   "execution_count": 13,
   "id": "f67bc55e",
   "metadata": {
    "execution": {
     "iopub.execute_input": "2021-11-06T09:27:46.671405Z",
     "iopub.status.busy": "2021-11-06T09:27:46.670730Z",
     "iopub.status.idle": "2021-11-06T09:28:24.859400Z",
     "shell.execute_reply": "2021-11-06T09:28:24.860017Z",
     "shell.execute_reply.started": "2021-11-06T02:32:28.249387Z"
    },
    "papermill": {
     "duration": 38.225647,
     "end_time": "2021-11-06T09:28:24.860229",
     "exception": false,
     "start_time": "2021-11-06T09:27:46.634582",
     "status": "completed"
    },
    "tags": []
   },
   "outputs": [],
   "source": [
    "qa_index.to_csv(\"./data/index.csv\", index=False)\n",
    "qa_token.to_csv(\"./data/token.csv\", index=False)\n",
    "with open('./data/vocab.txt', 'w') as f:\n",
    "    for item in vocab_dict:\n",
    "        f.write(\"%s\\n\" % item)\n"
   ]
  }
 ],
 "metadata": {
  "kernelspec": {
   "display_name": "Python 3",
   "language": "python",
   "name": "python3"
  },
  "language_info": {
   "codemirror_mode": {
    "name": "ipython",
    "version": 3
   },
   "file_extension": ".py",
   "mimetype": "text/x-python",
   "name": "python",
   "nbconvert_exporter": "python",
   "pygments_lexer": "ipython3",
   "version": "3.6.7"
  },
  "papermill": {
   "default_parameters": {},
   "duration": 24858.801728,
   "end_time": "2021-11-06T09:28:27.992618",
   "environment_variables": {},
   "exception": null,
   "input_path": "__notebook__.ipynb",
   "output_path": "__notebook__.ipynb",
   "parameters": {},
   "start_time": "2021-11-06T02:34:09.190890",
   "version": "2.3.3"
  }
 },
 "nbformat": 4,
 "nbformat_minor": 5
}
