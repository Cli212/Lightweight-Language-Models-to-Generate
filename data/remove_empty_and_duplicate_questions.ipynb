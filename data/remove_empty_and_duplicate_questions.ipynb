{
 "cells": [
  {
   "cell_type": "code",
   "execution_count": 1,
   "id": "53db559b",
   "metadata": {},
   "outputs": [],
   "source": [
    "import pandas as pd"
   ]
  },
  {
   "cell_type": "code",
   "execution_count": 2,
   "id": "2eb93d00",
   "metadata": {},
   "outputs": [],
   "source": [
    "df = pd.read_csv('index.csv')"
   ]
  },
  {
   "cell_type": "code",
   "execution_count": 3,
   "id": "361d313e",
   "metadata": {},
   "outputs": [],
   "source": [
    "df.drop_duplicates('question_index', inplace=True)"
   ]
  },
  {
   "cell_type": "code",
   "execution_count": 5,
   "id": "a6edd35e",
   "metadata": {},
   "outputs": [],
   "source": [
    "df['question_index'] = df['question_index'].apply(lambda x: eval(x))\n",
    "df['answer_index'] = df['answer_index'].apply(lambda x: eval(x))"
   ]
  },
  {
   "cell_type": "code",
   "execution_count": 11,
   "id": "cfa14fbd",
   "metadata": {},
   "outputs": [
    {
     "name": "stderr",
     "output_type": "stream",
     "text": [
      "100%|██████████| 721687/721687 [00:20<00:00, 34397.07it/s]\n"
     ]
    }
   ],
   "source": [
    "from tqdm import tqdm\n",
    "for i, d in enumerate(tqdm(df['question_index'].values.tolist())):\n",
    "    if eval(d) == []:\n",
    "        df.drop(index=i, inplace=True)"
   ]
  },
  {
   "cell_type": "code",
   "execution_count": 12,
   "id": "62668a9d",
   "metadata": {},
   "outputs": [
    {
     "name": "stderr",
     "output_type": "stream",
     "text": [
      "100%|██████████| 721686/721686 [00:21<00:00, 33822.74it/s]\n"
     ]
    }
   ],
   "source": [
    "for i, d in enumerate(tqdm(df['question_index'].values.tolist())):\n",
    "    if eval(d) == []:\n",
    "        print(i)"
   ]
  },
  {
   "cell_type": "code",
   "execution_count": 13,
   "id": "42338357",
   "metadata": {},
   "outputs": [],
   "source": [
    "df.to_csv('index_without_duplicates.csv', index=False)"
   ]
  },
  {
   "cell_type": "code",
   "execution_count": null,
   "id": "cdfc9ce2",
   "metadata": {},
   "outputs": [],
   "source": []
  }
 ],
 "metadata": {
  "kernelspec": {
   "display_name": "Python 3",
   "language": "python",
   "name": "python3"
  },
  "language_info": {
   "codemirror_mode": {
    "name": "ipython",
    "version": 3
   },
   "file_extension": ".py",
   "mimetype": "text/x-python",
   "name": "python",
   "nbconvert_exporter": "python",
   "pygments_lexer": "ipython3",
   "version": "3.6.7"
  }
 },
 "nbformat": 4,
 "nbformat_minor": 5
}
